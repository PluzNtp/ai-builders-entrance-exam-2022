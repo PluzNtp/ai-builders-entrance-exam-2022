{
  "cells": [
    {
      "cell_type": "markdown",
      "metadata": {
        "tags": [],
        "id": "vkhwXiy9RYQg"
      },
      "source": [
        "# แบบทดสอบเข้าโครงการ AI Builders 2022\n",
        "\n",
        "ยินดีต้อนรับน้อง ๆ สู่แบบทดสอบทักษะเบื้องต้นในการเขียนโปแกรมภาษา Python\n",
        "และการหัดใช้งานไลบราลี่ [`numpy`](https://numpy.org/doc/stable/) และ [`pandas`](https://pandas.pydata.org/docs/)\n",
        "ซึ่งเป็นสองไลบราลี่ที่มีการใช้งานบ่อยในการทำงานด้าน Data Science ด้วย Python\n",
        "\n",
        "ในแบบทดสอบฉบับนี้น้อง ๆ จะเจอกับโจทย์ปัญหา 12 ข้อ มีทั้งคำถามที่ง่ายและยากปะปนกันไป\n",
        "สำหรับแต่ละข้อ น้อง ๆ จะต้องโดยเขียนโค้ดในตำแหน่งที่กำหนดให้จนทำให้ฟังก์ชันสมบูรณ์\n",
        "และสามารถทำงานได้ตามเงื่อนไขสเปกที่กำหนดไว้ให้ในโจทย์ปัญหา\n",
        "เมื่อน้อง ๆ ทำโจทย์แต่ละข้อเสร็จแล้ว สามารถตรวจสอบความถูกต้องของโปรแกรมคำตอบคร่าว ๆ\n",
        "ได้จากการรันเทสเคสที่อยู่ในเซลล์ถัดไป หากพบข้อผิดพลาดให้ลองตรวจทานโปรแกรมคำตอบของตนอีกครั้งหนึ่ง\n",
        "  \n",
        "#### ข้อพึงระวัง\n",
        "- ไม่แนะนำให้ `import` โมดูลอื่น ๆ มาใช้งานในข้อสอบนี้ นอกเหนือจากที่กำหนดไว้แล้วในไฟล์นี้\n",
        "  เพราะในขั้นตอนการตรวจข้อสอบจริงอาจจะไม่มีโมดูลดังกล่าวให้ใช้งานได้\n",
        "  ส่งผลทำให้เกิดข้อผิดพลาดของโปรแกรมคำตอบได้  \n",
        "  อนึ่ง แบบทดสอบนี้สามารถลงมือทำได้โดยไม่จำเป็นต้องใช้โมดูลอื่น ๆ เพิ่มเติม\n",
        "- ผู้ทำแบบทดสอบสามารถสร้างเซลล์ใหม่เพื่อทดสอบโค้ดและลองดีบั๊กโค้ดดูได้\n",
        "  แต่อย่าลืมลบเซลล์ดังกล่าวออกก่อนส่งไฟล์โน้ตบุ๊กคำตอบกลับมายังใบสมัครเข้าร่วมโครงการฯ\n",
        "- เมื่อทำข้อสอบเสร็จแล้ว ให้ลองเริ่มต้นรันทุกเซลล์ในไฟล์โน้ตบุ๊กใหม่ทั้งหมดจากบนลงล่าง\n",
        "  เพื่อตรวจทานอีกครั้งหนึ่งว่าผลลัพธ์เป็นไปตามที่ต้องการหรือไม่"
      ]
    },
    {
      "cell_type": "code",
      "execution_count": 1,
      "metadata": {
        "colab": {
          "base_uri": "https://localhost:8080/"
        },
        "id": "A0STj-7TRYQs",
        "outputId": "317597e4-2453-44d3-f1e8-9c569f2befe7"
      },
      "outputs": [
        {
          "output_type": "stream",
          "name": "stdout",
          "text": [
            "Requirement already satisfied: pip in /usr/local/lib/python3.7/dist-packages (21.1.3)\n",
            "Collecting pip\n",
            "  Downloading pip-22.0.4-py3-none-any.whl (2.1 MB)\n",
            "\u001b[K     |████████████████████████████████| 2.1 MB 5.2 MB/s \n",
            "\u001b[?25hInstalling collected packages: pip\n",
            "  Attempting uninstall: pip\n",
            "    Found existing installation: pip 21.1.3\n",
            "    Uninstalling pip-21.1.3:\n",
            "      Successfully uninstalled pip-21.1.3\n",
            "Successfully installed pip-22.0.4\n",
            "Requirement already satisfied: datascience in /usr/local/lib/python3.7/dist-packages (0.10.6)\n",
            "Collecting datascience\n",
            "  Downloading datascience-0.17.0.tar.gz (721 kB)\n",
            "\u001b[2K     \u001b[90m━━━━━━━━━━━━━━━━━━━━━━━━━━━━━━━━━━━━━━\u001b[0m \u001b[32m721.2/721.2 KB\u001b[0m \u001b[31m12.4 MB/s\u001b[0m eta \u001b[36m0:00:00\u001b[0m\n",
            "\u001b[?25h  Preparing metadata (setup.py) ... \u001b[?25l\u001b[?25hdone\n",
            "Collecting ipytest\n",
            "  Downloading ipytest-0.12.0-py3-none-any.whl (15 kB)\n",
            "Collecting rich\n",
            "  Downloading rich-12.1.0-py3-none-any.whl (229 kB)\n",
            "\u001b[2K     \u001b[90m━━━━━━━━━━━━━━━━━━━━━━━━━━━━━━━━━━━━━━\u001b[0m \u001b[32m229.8/229.8 KB\u001b[0m \u001b[31m17.9 MB/s\u001b[0m eta \u001b[36m0:00:00\u001b[0m\n",
            "\u001b[?25hCollecting folium>=0.9.1\n",
            "  Downloading folium-0.12.1.post1-py2.py3-none-any.whl (95 kB)\n",
            "\u001b[2K     \u001b[90m━━━━━━━━━━━━━━━━━━━━━━━━━━━━━━━━━━━━━━━━\u001b[0m \u001b[32m95.0/95.0 KB\u001b[0m \u001b[31m9.6 MB/s\u001b[0m eta \u001b[36m0:00:00\u001b[0m\n",
            "\u001b[?25hRequirement already satisfied: sphinx in /usr/local/lib/python3.7/dist-packages (from datascience) (1.8.6)\n",
            "Requirement already satisfied: setuptools in /usr/local/lib/python3.7/dist-packages (from datascience) (57.4.0)\n",
            "Requirement already satisfied: matplotlib>=3.0.0 in /usr/local/lib/python3.7/dist-packages (from datascience) (3.2.2)\n",
            "Requirement already satisfied: pandas in /usr/local/lib/python3.7/dist-packages (from datascience) (1.3.5)\n",
            "Requirement already satisfied: scipy in /usr/local/lib/python3.7/dist-packages (from datascience) (1.4.1)\n",
            "Requirement already satisfied: numpy in /usr/local/lib/python3.7/dist-packages (from datascience) (1.21.5)\n",
            "Requirement already satisfied: ipython in /usr/local/lib/python3.7/dist-packages (from datascience) (5.5.0)\n",
            "Requirement already satisfied: plotly in /usr/local/lib/python3.7/dist-packages (from datascience) (5.5.0)\n",
            "Requirement already satisfied: branca in /usr/local/lib/python3.7/dist-packages (from datascience) (0.4.2)\n",
            "Collecting nbsphinx\n",
            "  Downloading nbsphinx-0.8.8-py3-none-any.whl (25 kB)\n",
            "Requirement already satisfied: pytest in /usr/local/lib/python3.7/dist-packages (from datascience) (3.6.4)\n",
            "Requirement already satisfied: coverage in /usr/local/lib/python3.7/dist-packages (from datascience) (3.7.1)\n",
            "Requirement already satisfied: coveralls in /usr/local/lib/python3.7/dist-packages (from datascience) (0.5)\n",
            "Requirement already satisfied: bokeh in /usr/local/lib/python3.7/dist-packages (from datascience) (2.3.3)\n",
            "Requirement already satisfied: packaging in /usr/local/lib/python3.7/dist-packages (from ipytest) (21.3)\n",
            "Collecting pytest\n",
            "  Downloading pytest-7.1.1-py3-none-any.whl (297 kB)\n",
            "\u001b[2K     \u001b[90m━━━━━━━━━━━━━━━━━━━━━━━━━━━━━━━━━━━━━━\u001b[0m \u001b[32m297.0/297.0 KB\u001b[0m \u001b[31m11.6 MB/s\u001b[0m eta \u001b[36m0:00:00\u001b[0m\n",
            "\u001b[?25hRequirement already satisfied: typing-extensions<5.0,>=3.7.4 in /usr/local/lib/python3.7/dist-packages (from rich) (3.10.0.2)\n",
            "Collecting commonmark<0.10.0,>=0.9.0\n",
            "  Downloading commonmark-0.9.1-py2.py3-none-any.whl (51 kB)\n",
            "\u001b[2K     \u001b[90m━━━━━━━━━━━━━━━━━━━━━━━━━━━━━━━━━━━━━━━━\u001b[0m \u001b[32m51.1/51.1 KB\u001b[0m \u001b[31m5.0 MB/s\u001b[0m eta \u001b[36m0:00:00\u001b[0m\n",
            "\u001b[?25hRequirement already satisfied: pygments<3.0.0,>=2.6.0 in /usr/local/lib/python3.7/dist-packages (from rich) (2.6.1)\n",
            "Requirement already satisfied: jinja2>=2.9 in /usr/local/lib/python3.7/dist-packages (from folium>=0.9.1->datascience) (2.11.3)\n",
            "Requirement already satisfied: requests in /usr/local/lib/python3.7/dist-packages (from folium>=0.9.1->datascience) (2.23.0)\n",
            "Requirement already satisfied: cycler>=0.10 in /usr/local/lib/python3.7/dist-packages (from matplotlib>=3.0.0->datascience) (0.11.0)\n",
            "Requirement already satisfied: kiwisolver>=1.0.1 in /usr/local/lib/python3.7/dist-packages (from matplotlib>=3.0.0->datascience) (1.4.0)\n",
            "Requirement already satisfied: pyparsing!=2.0.4,!=2.1.2,!=2.1.6,>=2.0.1 in /usr/local/lib/python3.7/dist-packages (from matplotlib>=3.0.0->datascience) (3.0.7)\n",
            "Requirement already satisfied: python-dateutil>=2.1 in /usr/local/lib/python3.7/dist-packages (from matplotlib>=3.0.0->datascience) (2.8.2)\n",
            "Requirement already satisfied: tomli>=1.0.0 in /usr/local/lib/python3.7/dist-packages (from pytest->datascience) (2.0.1)\n",
            "Requirement already satisfied: iniconfig in /usr/local/lib/python3.7/dist-packages (from pytest->datascience) (1.1.1)\n",
            "Collecting pluggy<2.0,>=0.12\n",
            "  Downloading pluggy-1.0.0-py2.py3-none-any.whl (13 kB)\n",
            "Requirement already satisfied: py>=1.8.2 in /usr/local/lib/python3.7/dist-packages (from pytest->datascience) (1.11.0)\n",
            "Requirement already satisfied: attrs>=19.2.0 in /usr/local/lib/python3.7/dist-packages (from pytest->datascience) (21.4.0)\n",
            "Requirement already satisfied: importlib-metadata>=0.12 in /usr/local/lib/python3.7/dist-packages (from pytest->datascience) (4.11.3)\n",
            "Requirement already satisfied: tornado>=5.1 in /usr/local/lib/python3.7/dist-packages (from bokeh->datascience) (5.1.1)\n",
            "Requirement already satisfied: PyYAML>=3.10 in /usr/local/lib/python3.7/dist-packages (from bokeh->datascience) (3.13)\n",
            "Requirement already satisfied: pillow>=7.1.0 in /usr/local/lib/python3.7/dist-packages (from bokeh->datascience) (7.1.2)\n",
            "Requirement already satisfied: docopt>=0.6.1 in /usr/local/lib/python3.7/dist-packages (from coveralls->datascience) (0.6.2)\n",
            "Requirement already satisfied: pickleshare in /usr/local/lib/python3.7/dist-packages (from ipython->datascience) (0.7.5)\n",
            "Requirement already satisfied: simplegeneric>0.8 in /usr/local/lib/python3.7/dist-packages (from ipython->datascience) (0.8.1)\n",
            "Requirement already satisfied: traitlets>=4.2 in /usr/local/lib/python3.7/dist-packages (from ipython->datascience) (5.1.1)\n",
            "Requirement already satisfied: prompt-toolkit<2.0.0,>=1.0.4 in /usr/local/lib/python3.7/dist-packages (from ipython->datascience) (1.0.18)\n",
            "Requirement already satisfied: pexpect in /usr/local/lib/python3.7/dist-packages (from ipython->datascience) (4.8.0)\n",
            "Requirement already satisfied: decorator in /usr/local/lib/python3.7/dist-packages (from ipython->datascience) (4.4.2)\n",
            "Requirement already satisfied: nbconvert!=5.4 in /usr/local/lib/python3.7/dist-packages (from nbsphinx->datascience) (5.6.1)\n",
            "Requirement already satisfied: nbformat in /usr/local/lib/python3.7/dist-packages (from nbsphinx->datascience) (5.2.0)\n",
            "Requirement already satisfied: docutils in /usr/local/lib/python3.7/dist-packages (from nbsphinx->datascience) (0.17.1)\n",
            "Requirement already satisfied: imagesize in /usr/local/lib/python3.7/dist-packages (from sphinx->datascience) (1.3.0)\n",
            "Requirement already satisfied: alabaster<0.8,>=0.7 in /usr/local/lib/python3.7/dist-packages (from sphinx->datascience) (0.7.12)\n",
            "Requirement already satisfied: sphinxcontrib-websupport in /usr/local/lib/python3.7/dist-packages (from sphinx->datascience) (1.2.4)\n",
            "Requirement already satisfied: snowballstemmer>=1.1 in /usr/local/lib/python3.7/dist-packages (from sphinx->datascience) (2.2.0)\n",
            "Requirement already satisfied: babel!=2.0,>=1.3 in /usr/local/lib/python3.7/dist-packages (from sphinx->datascience) (2.9.1)\n",
            "Requirement already satisfied: six>=1.5 in /usr/local/lib/python3.7/dist-packages (from sphinx->datascience) (1.15.0)\n",
            "Requirement already satisfied: pytz>=2017.3 in /usr/local/lib/python3.7/dist-packages (from pandas->datascience) (2018.9)\n",
            "Requirement already satisfied: tenacity>=6.2.0 in /usr/local/lib/python3.7/dist-packages (from plotly->datascience) (8.0.1)\n",
            "Requirement already satisfied: zipp>=0.5 in /usr/local/lib/python3.7/dist-packages (from importlib-metadata>=0.12->pytest->datascience) (3.7.0)\n",
            "Requirement already satisfied: MarkupSafe>=0.23 in /usr/local/lib/python3.7/dist-packages (from jinja2>=2.9->folium>=0.9.1->datascience) (2.0.1)\n",
            "Requirement already satisfied: testpath in /usr/local/lib/python3.7/dist-packages (from nbconvert!=5.4->nbsphinx->datascience) (0.6.0)\n",
            "Requirement already satisfied: entrypoints>=0.2.2 in /usr/local/lib/python3.7/dist-packages (from nbconvert!=5.4->nbsphinx->datascience) (0.4)\n",
            "Requirement already satisfied: pandocfilters>=1.4.1 in /usr/local/lib/python3.7/dist-packages (from nbconvert!=5.4->nbsphinx->datascience) (1.5.0)\n",
            "Requirement already satisfied: jupyter-core in /usr/local/lib/python3.7/dist-packages (from nbconvert!=5.4->nbsphinx->datascience) (4.9.2)\n",
            "Requirement already satisfied: mistune<2,>=0.8.1 in /usr/local/lib/python3.7/dist-packages (from nbconvert!=5.4->nbsphinx->datascience) (0.8.4)\n",
            "Requirement already satisfied: defusedxml in /usr/local/lib/python3.7/dist-packages (from nbconvert!=5.4->nbsphinx->datascience) (0.7.1)\n",
            "Requirement already satisfied: bleach in /usr/local/lib/python3.7/dist-packages (from nbconvert!=5.4->nbsphinx->datascience) (4.1.0)\n",
            "Requirement already satisfied: jsonschema!=2.5.0,>=2.4 in /usr/local/lib/python3.7/dist-packages (from nbformat->nbsphinx->datascience) (4.3.3)\n",
            "Requirement already satisfied: wcwidth in /usr/local/lib/python3.7/dist-packages (from prompt-toolkit<2.0.0,>=1.0.4->ipython->datascience) (0.2.5)\n",
            "Requirement already satisfied: idna<3,>=2.5 in /usr/local/lib/python3.7/dist-packages (from requests->folium>=0.9.1->datascience) (2.10)\n",
            "Requirement already satisfied: chardet<4,>=3.0.2 in /usr/local/lib/python3.7/dist-packages (from requests->folium>=0.9.1->datascience) (3.0.4)\n",
            "Requirement already satisfied: certifi>=2017.4.17 in /usr/local/lib/python3.7/dist-packages (from requests->folium>=0.9.1->datascience) (2021.10.8)\n",
            "Requirement already satisfied: urllib3!=1.25.0,!=1.25.1,<1.26,>=1.21.1 in /usr/local/lib/python3.7/dist-packages (from requests->folium>=0.9.1->datascience) (1.24.3)\n",
            "Requirement already satisfied: ptyprocess>=0.5 in /usr/local/lib/python3.7/dist-packages (from pexpect->ipython->datascience) (0.7.0)\n",
            "Requirement already satisfied: sphinxcontrib-serializinghtml in /usr/local/lib/python3.7/dist-packages (from sphinxcontrib-websupport->sphinx->datascience) (1.1.5)\n",
            "Requirement already satisfied: importlib-resources>=1.4.0 in /usr/local/lib/python3.7/dist-packages (from jsonschema!=2.5.0,>=2.4->nbformat->nbsphinx->datascience) (5.4.0)\n",
            "Requirement already satisfied: pyrsistent!=0.17.0,!=0.17.1,!=0.17.2,>=0.14.0 in /usr/local/lib/python3.7/dist-packages (from jsonschema!=2.5.0,>=2.4->nbformat->nbsphinx->datascience) (0.18.1)\n",
            "Requirement already satisfied: webencodings in /usr/local/lib/python3.7/dist-packages (from bleach->nbconvert!=5.4->nbsphinx->datascience) (0.5.1)\n",
            "Building wheels for collected packages: datascience\n",
            "  Building wheel for datascience (setup.py) ... \u001b[?25l\u001b[?25hdone\n",
            "  Created wheel for datascience: filename=datascience-0.17.0-py3-none-any.whl size=726848 sha256=f4ec3234a963bf6497f0e0759d9ffd4760d02c6dd544a1f745b74eec12bde1ca\n",
            "  Stored in directory: /root/.cache/pip/wheels/41/e0/1b/bc890a517ad4212eb7180ccca6497c97d0ca7c28342b236888\n",
            "Successfully built datascience\n",
            "Installing collected packages: commonmark, rich, pluggy, pytest, folium, ipytest, nbsphinx, datascience\n",
            "  Attempting uninstall: pluggy\n",
            "    Found existing installation: pluggy 0.7.1\n",
            "    Uninstalling pluggy-0.7.1:\n",
            "      Successfully uninstalled pluggy-0.7.1\n",
            "  Attempting uninstall: pytest\n",
            "    Found existing installation: pytest 3.6.4\n",
            "    Uninstalling pytest-3.6.4:\n",
            "      Successfully uninstalled pytest-3.6.4\n",
            "  Attempting uninstall: folium\n",
            "    Found existing installation: folium 0.8.3\n",
            "    Uninstalling folium-0.8.3:\n",
            "      Successfully uninstalled folium-0.8.3\n",
            "  Attempting uninstall: datascience\n",
            "    Found existing installation: datascience 0.10.6\n",
            "    Uninstalling datascience-0.10.6:\n",
            "      Successfully uninstalled datascience-0.10.6\n",
            "Successfully installed commonmark-0.9.1 datascience-0.17.0 folium-0.12.1.post1 ipytest-0.12.0 nbsphinx-0.8.8 pluggy-1.0.0 pytest-7.1.1 rich-12.1.0\n",
            "\u001b[33mWARNING: Running pip as the 'root' user can result in broken permissions and conflicting behaviour with the system package manager. It is recommended to use a virtual environment instead: https://pip.pypa.io/warnings/venv\u001b[0m\u001b[33m\n",
            "\u001b[0m--2022-04-04 11:15:17--  https://raw.githubusercontent.com/ai-builders/entrance-exam-2022/main/sportsday.csv\n",
            "Resolving raw.githubusercontent.com (raw.githubusercontent.com)... 185.199.108.133, 185.199.109.133, 185.199.110.133, ...\n",
            "Connecting to raw.githubusercontent.com (raw.githubusercontent.com)|185.199.108.133|:443... connected.\n",
            "HTTP request sent, awaiting response... 200 OK\n",
            "Length: 9957 (9.7K) [text/plain]\n",
            "Saving to: ‘sportsday.csv’\n",
            "\n",
            "sportsday.csv       100%[===================>]   9.72K  --.-KB/s    in 0s      \n",
            "\n",
            "2022-04-04 11:15:18 (89.5 MB/s) - ‘sportsday.csv’ saved [9957/9957]\n",
            "\n"
          ]
        }
      ],
      "source": [
        "# กรุณารันเซลล์นี้หากคุณใช้งาน Google Colab เพื่อทำข้อสอบ\n",
        "!pip install -U pip\n",
        "!pip install -U datascience ipytest rich\n",
        "!wget https://raw.githubusercontent.com/ai-builders/entrance-exam-2022/main/sportsday.csv"
      ]
    },
    {
      "cell_type": "code",
      "execution_count": 2,
      "metadata": {
        "tags": [],
        "id": "KJQZfcKLRYQv"
      },
      "outputs": [],
      "source": [
        "# กรุณารันเซลลืนี้ โดยไม่ต้องแก้ไขโค้ดใด ๆ ทั้งสิ้น\n",
        "from __future__ import annotations\n",
        "\n",
        "import math\n",
        "\n",
        "import ipytest\n",
        "import numpy as np\n",
        "import pandas as pd\n",
        "from pytest import approx\n",
        "\n",
        "ipytest.autoconfig()"
      ]
    },
    {
      "cell_type": "markdown",
      "metadata": {
        "tags": [],
        "id": "T5CMZNLgRYQw"
      },
      "source": [
        "# โจทย์ปัญหาที่ 0: นับจำนวนคู่ (ปัญหาตัวอย่าง)\n",
        "\n",
        "จงเติมฟังก์ชัน `count_even` ให้สมบูรณ์ เพื่อคำนวณว่าในลิสต์ของจำนวนเต็ม `numbers` นั้น มีกี่จำนวนที่เป็นจำนวนคู่?\n",
        "\n",
        "#### อินพุตของฟังก์ชัน\n",
        "\n",
        "- `numbers`: ลิสต์ของจำนวนเต็ม\n",
        "\n",
        "#### ฟังก์ชันรีเทิร์นค่า\n",
        "\n",
        "- จำนวนของค่าในลิสต์ `numbers` ที่เป็นจำนวนคู่\n",
        "\n",
        "**หมายเหตุ:** ในเซลล์ที่ปรากฏข้างล่างมีตัวอย่างของโปรแกรมคำตอบที่ทำงานถูกต้อง\n",
        "อาจมีโปรแกรมอื่นต่างออกไปจากนี้ที่ให้คำตอบที่ถูกต้องเช่นกัน"
      ]
    },
    {
      "cell_type": "code",
      "execution_count": 3,
      "metadata": {
        "tags": [],
        "id": "9zmaQDm8RYQy"
      },
      "outputs": [],
      "source": [
        "def count_even(values: list[int]) -> int:\n",
        "    count = 0\n",
        "    for v in values:\n",
        "        if v % 2 == 0:\n",
        "            count += 1\n",
        "    return count"
      ]
    },
    {
      "cell_type": "markdown",
      "metadata": {
        "tags": [],
        "id": "MgXPnkRnRYQz"
      },
      "source": [
        "โจทย์ปัญหาแต่ละข้อจะมาพร้อมกันเทสเคสดังที่ปรากฏในเซลล์ข้างล่างนี้\n",
        "หากโปรแกรมข้างต้นถูกต้อง เซลล์โค้ดนี้จะรันผ่านโดยไม่เกิดข้อผิดพลาดขึ้น"
      ]
    },
    {
      "cell_type": "code",
      "execution_count": 4,
      "metadata": {
        "tags": [],
        "colab": {
          "base_uri": "https://localhost:8080/"
        },
        "id": "QUxT7exLRYQ1",
        "outputId": "5f40cd40-8597-4239-ca51-dc9fdec5b684"
      },
      "outputs": [
        {
          "output_type": "stream",
          "name": "stdout",
          "text": [
            "==== Test OK ====\n",
            "\u001b[32m.\u001b[0m\n"
          ]
        }
      ],
      "source": [
        "%%ipytest -qqs\n",
        "def test_count_even():\n",
        "    assert count_even([1, 2, 3, 4, 5]) == 2\n",
        "    assert count_even([1, 3, 5, 7]) == 0\n",
        "    assert count_even([2, 4, 8, 16, 32]) == 5\n",
        "    assert count_even([]) == 0\n",
        "    print(\"==== Test OK ====\")"
      ]
    },
    {
      "cell_type": "markdown",
      "metadata": {
        "tags": [],
        "id": "lG7lGhl2RYQ2"
      },
      "source": [
        "# โจทย์ปัญหาที่ 1: พื้นที่ผิวของกรวย\n",
        "\n",
        "จงเติมฟังก์ชัน `cone_surface_area` ให้สมบูรณ์ เพื่อคำนวณหาพื้นที่ผิวของกรวยกลมตรง (Right Circular Cone)\n",
        "ที่มีฐานรัศมี $r$ และความสูง $h$ จากสมการดังต่อไปนี้\n",
        "\n",
        "$$ \\mathit{Area} = \\pi r (r + \\sqrt{r^2 + h^2})$$\n",
        "\n",
        "#### อินพุตของฟังก์ชัน\n",
        "\n",
        "- `radius`: รัศมีฐานวงกลมของกรวย\n",
        "- `height`: ความสูงของกรวย\n",
        "\n",
        "#### ฟังก์ชันรีเทิร์นค่า\n",
        "\n",
        "- พื้นที่ผิวของกรวยกลมตรงตามขนาดที่กำหนดให้\n",
        "\n",
        "#### คำใบ้และข้อมูลเพิ่มเติม\n",
        "\n",
        "- [Documentation ของแพ็กเกจ `math`](https://docs.python.org/3.7/library/math.html)"
      ]
    },
    {
      "cell_type": "code",
      "execution_count": 5,
      "metadata": {
        "id": "AOYVL8IFRYQ4"
      },
      "outputs": [],
      "source": [
        "def cone_surface_area(radius: float, height: float) -> float:\n",
        "    assert radius >= 0, \"radius cannot be negative\"\n",
        "    assert height >= 0, \"height cannot be negative\"\n",
        "    # เขียนโค้ดของคุณตรงนี้\n",
        "    radius_sqrt = radius + np.sqrt(radius**2 + height**2)\n",
        "    area_of_cone = math.pi * radius*radius_sqrt \n",
        "    return area_of_cone"
      ]
    },
    {
      "cell_type": "code",
      "execution_count": 6,
      "metadata": {
        "colab": {
          "base_uri": "https://localhost:8080/"
        },
        "id": "s7OI42WwRYQ6",
        "outputId": "fdf26ac8-80a5-4870-8f2c-a420e7e3663b"
      },
      "outputs": [
        {
          "output_type": "stream",
          "name": "stdout",
          "text": [
            "==== Test OK ====\n",
            "\u001b[32m.\u001b[0m\n"
          ]
        }
      ],
      "source": [
        "%%ipytest -qqs\n",
        "def test_cone_surface_area():\n",
        "    assert cone_surface_area(radius=2, height=3) == approx(35.22071741263713)\n",
        "    assert cone_surface_area(radius=2, height=0) == approx(8 * math.pi)\n",
        "    assert cone_surface_area(radius=0, height=3) == approx(0)\n",
        "    assert cone_surface_area(radius=3, height=4) == approx(24 * math.pi)\n",
        "    print(\"==== Test OK ====\")"
      ]
    },
    {
      "cell_type": "markdown",
      "metadata": {
        "tags": [],
        "id": "3um84ezQRYQ7"
      },
      "source": [
        "# โจทย์ปัญหาที่ 2: โปรแกรมค้นหาคำสำหรับ WORDLE\n",
        "\n",
        "[หากคุณไม่รู้จัก WORDLE ลองเล่นได้ที่นี่](https://www.nytimes.com/games/wordle/index.html)\n",
        "\n",
        "(โจทย์ปัญหานี้มีปัญหาย่อย 3 ข้อ)\n",
        "\n",
        "สำหรับโจทย์ปัญหาข้อนี้ คุณจะต้องเขียนฟังก์ชัน 3 อย่างที่จะช่วยคัดกรองคำจากชุดคำตามเงื่อนไขที่กำหนดให้\n",
        "ซึ่งสามารถนำมาใช้ช่วยค้นหาคำตอบของปริศนา WORDLE ได้\n",
        "\n",
        "**ข้อตกลง:** สำหรับโจทย์ข้อนี้ เราสนใจเฉพาะคำที่ประกอบไปด้วยตัวอักษรภาษาอังกฤษพิมพ์เล็ก 5 ตัว (a-z)  \n",
        "โดยเราจะเรียกตำแหน่งของตัวอักษร 1 ถึง 5 โดย 1 หมายถึงตัวอักษรตัวแรก (ตัวซ้ายสุดของคำ) และ 5 หมายถึงตัวอักษรตัวสุดท้าย (ตัวขวาสุดของคำ)  \n",
        "ยกตัวอย่างเช่นคำว่า `\"APPLE\"` นั้น\n",
        "- มีตัวอักษร `\"A\"` ในตำแหน่งที่ 1\n",
        "- มีตัวอักษร `\"P\"` ในตำแหน่งที่ 2 และ 3\n",
        "- มีตัวอักษร `\"L\"` ในตำแหน่งที่ 4\n",
        "- มีตัวอักษร `\"E\"` ในตำแหน่งที่ 5"
      ]
    },
    {
      "cell_type": "code",
      "execution_count": 7,
      "metadata": {
        "colab": {
          "base_uri": "https://localhost:8080/"
        },
        "id": "wJ4S0c3fRYQ8",
        "outputId": "e8ad16e6-4431-4964-94b7-d096ceacb959"
      },
      "outputs": [
        {
          "output_type": "stream",
          "name": "stdout",
          "text": [
            "\n"
          ]
        }
      ],
      "source": [
        "%%ipytest -qqs\n",
        "# ชุดคำเหล่านี้จะถูกใช้งานในเทสเคสสำหรับแต่ละข้อย่อย\n",
        "FUNNY_WORDS = [\n",
        "    \"poboy\", \"dobby\", \"cuppy\", \"hobby\", \"pudgy\", \"cocky\", \"bawdy\", \"miffy\", \"foamy\", \"jazzy\",\n",
        "    \"caddy\", \"jaggy\", \"muddy\", \"jumpy\", \"duchy\", \"poppy\", \"yucky\", \"bumpy\", \"biddy\", \"choky\",\n",
        "    \"fuzzy\", \"buggy\", \"byway\", \"gaudy\", \"dizzy\", \"moody\", \"muggy\", \"gabby\", \"dicky\", \"doggy\",\n",
        "    \"wiggy\", \"hooky\", \"kiddy\", \"dumpy\", \"waddy\", \"guppy\", \"woody\", \"doozy\", \"giddy\", \"mummy\",\n",
        "    \"gamay\", \"piggy\", \"divvy\", \"gawky\", \"bobby\", \"woozy\", \"ducky\", \"buddy\", \"cooky\", \"mommy\", \n",
        "    \"dodgy\", \"middy\", \"gummy\", \"kooky\", \"jiffy\", \"humpy\", \"picky\", \"comfy\", \"puppy\", \"muzzy\",\n",
        "    \"copay\", \"cabby\", \"gauzy\", \"booby\", \"boomy\", \"mammy\", \"boody\", \"pommy\", \"zappy\", \"yummy\",\n",
        "    \"wacky\", \"jimmy\", \"hubby\", \"bubby\", \"paddy\", \"pappy\", \"goofy\", \"cubby\", \"goody\", \"juicy\",\n",
        "    \"hammy\", \"daffy\", \"kicky\", \"zippy\", \"pawky\", \"biffy\", \"hippy\", \"baggy\", \"howdy\", \"cuddy\",\n",
        "    \"daddy\", \"dowdy\", \"dippy\", \"happy\", \"huffy\", \"dummy\", \"foggy\",\n",
        "]"
      ]
    },
    {
      "cell_type": "markdown",
      "metadata": {
        "tags": [],
        "id": "-Q1p0I1QRYQ-"
      },
      "source": [
        "## ข้อย่อยที่ 2.1: คำที่มีตัวอักษรในตำแหน่งที่ต้องการ\n",
        "\n",
        "จงเติมฟังก์ชัน `filter_matching` ให้สมบูรณ์ เพื่อคัดกรองลิสต์ของคำที่มี 5 ตัวอักษร\n",
        "คงไว้เฉพาะคำที่มีตัวอักษรในตำแหน่งที่กำหนดให้ ตรงกับตัวอักษรที่กำหนดให้\n",
        "\n",
        "#### อินพุตของฟังก์ชัน\n",
        "\n",
        "- `wordbank`: ลิสต์ของชุดคำที่ต้องการพิจารณา ซึ่งแต่ละคำเป็นสตริงที่ประกอบไปด้วย a-z ความยาว 5 ตัวอักษร\n",
        "- `target`: ตัวอักษรตัวเดียวที่ต้องการพบในคำ ในตำแหน่งที่ต้องการ\n",
        "- `position`: ตำแหน่งของตัวอักษรที่ต้องการตรวจสอบ (มีค่าตั้งแต่ 1 ถึง 5)\n",
        "\n",
        "#### ฟังก์ชันรีเทิร์นค่า\n",
        "\n",
        "- ลิสต์ของคำที่กรองตามเงื่อนไขข้างต้น โดยลำดับของคำที่ปรากฏจะต้องคงเดิมจากลิสต์ที่เป็นอินพุต (Order Preserving)\n",
        "\n",
        "#### คำใบ้และข้อมูลเพิ่มเติม\n",
        "\n",
        "- อาจลองใช้ลูป `for` เพื่อตรวจสอบคำทีละคำ และการตรวจสอบประพจน์เงื่อนไขด้วย `if`"
      ]
    },
    {
      "cell_type": "code",
      "execution_count": 8,
      "metadata": {
        "id": "x6kB8bY3RYQ_"
      },
      "outputs": [],
      "source": [
        "def filter_matching(wordbank: list[str], target: str, position: int) -> list[str]:\n",
        "  anslist=[]\n",
        "  for i in wordbank:\n",
        "     if i[position-1] == target:\n",
        "       anslist.append(i)\n",
        "  return anslist\n",
        "  \n"
      ]
    },
    {
      "cell_type": "code",
      "execution_count": 9,
      "metadata": {
        "colab": {
          "base_uri": "https://localhost:8080/"
        },
        "id": "XjcBh9KyRYRA",
        "outputId": "08666c8c-ef9b-4653-a961-92d3b65e88d9"
      },
      "outputs": [
        {
          "output_type": "stream",
          "name": "stdout",
          "text": [
            "==== Test OK ====\n",
            "\u001b[32m.\u001b[0m\n"
          ]
        }
      ],
      "source": [
        "%%ipytest -qqs\n",
        "def test_filter_matching():\n",
        "    assert filter_matching([\"hippo\", \"zebra\", \"panda\", \"koala\"], \"a\", 5) == [\"zebra\", \"panda\", \"koala\"]\n",
        "    assert filter_matching([\"hippo\", \"zebra\", \"panda\", \"koala\"], \"e\", 2) == [\"zebra\"]\n",
        "    assert filter_matching([\"hippo\", \"zebra\", \"panda\", \"koala\"], \"x\", 1) == []\n",
        "    assert filter_matching(FUNNY_WORDS, \"m\", 1) == [\n",
        "        \"miffy\", \"muddy\", \"moody\", \"muggy\", \"mummy\", \"mommy\", \"middy\", \"muzzy\", \"mammy\",\n",
        "    ]\n",
        "    assert filter_matching(FUNNY_WORDS, \"m\", 2) == []\n",
        "    assert filter_matching(FUNNY_WORDS, \"i\", 3) == [\"juicy\"]\n",
        "    assert filter_matching(FUNNY_WORDS, \"e\", 4) == []\n",
        "    assert filter_matching(FUNNY_WORDS, \"y\", 5) == FUNNY_WORDS\n",
        "    assert filter_matching(FUNNY_WORDS, \"k\", 4) == [\n",
        "        \"cocky\", \"yucky\", \"choky\", \"dicky\", \"hooky\", \"gawky\", \"ducky\", \"cooky\", \"kooky\", \"picky\",\n",
        "        \"wacky\", \"kicky\", \"pawky\",\n",
        "    ]\n",
        "    assert filter_matching([], \"x\", 2) == []\n",
        "    print(\"==== Test OK ====\")"
      ]
    },
    {
      "cell_type": "markdown",
      "metadata": {
        "tags": [],
        "id": "C75mONAXRYRB"
      },
      "source": [
        "## ข้อย่อยที่ 2.2: คำที่ไม่มีตัวอักษรที่กำหนดให้\n",
        "\n",
        "จงเติมฟังก์ชัน `filter_absence` ให้สมบูรณ์ เพื่อคัดกรองลิสต์ของคำที่มี 5 ตัวอักษร\n",
        "คงไว้เฉพาะคำที่ไม่มีตัวอักษรที่กำหนดให้ในตำแหน่งใด ๆ เลย\n",
        "\n",
        "#### อินพุตของฟังก์ชัน\n",
        "\n",
        "- `wordbank`: ลิสต์ของชุดคำที่ต้องการพิจารณา ซึ่งแต่ละคำเป็นสตริงที่ประกอบไปด้วย a-z ความยาว 5 ตัวอักษร\n",
        "- `unwanted`: ตัวอักษรตัวเดียวที่ไม่ต้องการพบในคำไม่ว่าตำแหน่งใดก็ตาม\n",
        "\n",
        "#### ฟังก์ชันรีเทิร์นค่า\n",
        "\n",
        "- ลิสต์ของคำที่กรองตามเงื่อนไขข้างต้น โดยลำดับของคำที่ปรากฏจะต้องคงเดิมจากลิสต์ที่เป็นอินพุต (Order Preserving)\n",
        "\n",
        "#### คำใบ้และข้อมูลเพิ่มเติม\n",
        "\n",
        "- อาจจะใช้ลูป `for` ชั้นเดียว หรือสองชั้นก็ได้ แล้วแต่จะพิจารณา"
      ]
    },
    {
      "cell_type": "code",
      "execution_count": 10,
      "metadata": {
        "id": "FBc6h0cTRYRC"
      },
      "outputs": [],
      "source": [
        "def filter_absence(wordbank: list[str], unwanted: str) -> list[str]:\n",
        "    # เขียนโค้ดของคุณตรงนี้\n",
        "    anslist = []\n",
        "    for i in wordbank:\n",
        "      if i.find(unwanted) == -1 :\n",
        "          anslist.append(i)\n",
        "    return anslist"
      ]
    },
    {
      "cell_type": "code",
      "execution_count": 11,
      "metadata": {
        "colab": {
          "base_uri": "https://localhost:8080/"
        },
        "id": "mzM5PC51RYRC",
        "outputId": "68791da7-c339-4001-9f2e-5640982d2615"
      },
      "outputs": [
        {
          "output_type": "stream",
          "name": "stdout",
          "text": [
            "==== Test OK ====\n",
            "\u001b[32m.\u001b[0m\n"
          ]
        }
      ],
      "source": [
        "%%ipytest -qqs\n",
        "def test_filter_absence():\n",
        "    assert filter_absence([\"hippo\", \"zebra\", \"panda\", \"koala\"], \"a\") == [\"hippo\"]\n",
        "    assert filter_absence([\"zebra\", \"panda\", \"koala\"], \"a\") == []\n",
        "    assert filter_absence([\"hippo\", \"zebra\", \"panda\", \"koala\"], \"x\") == [\"hippo\", \"zebra\", \"panda\", \"koala\"]\n",
        "    assert filter_absence(FUNNY_WORDS, \"m\") == [\n",
        "        \"poboy\", \"dobby\", \"cuppy\", \"hobby\", \"pudgy\", \"cocky\", \"bawdy\", \"jazzy\", \"caddy\", \"jaggy\",\n",
        "        \"duchy\", \"poppy\", \"yucky\", \"biddy\", \"choky\", \"fuzzy\", \"buggy\", \"byway\", \"gaudy\", \"dizzy\", \n",
        "        \"gabby\", \"dicky\", \"doggy\", \"wiggy\", \"hooky\", \"kiddy\", \"waddy\", \"guppy\", \"woody\", \"doozy\", \n",
        "        \"giddy\", \"piggy\", \"divvy\", \"gawky\", \"bobby\", \"woozy\", \"ducky\", \"buddy\", \"cooky\", \"dodgy\", \n",
        "        \"kooky\", \"jiffy\", \"picky\", \"puppy\", \"copay\", \"cabby\", \"gauzy\", \"booby\", \"boody\", \"zappy\", \n",
        "        \"wacky\", \"hubby\", \"bubby\", \"paddy\", \"pappy\", \"goofy\", \"cubby\", \"goody\", \"juicy\", \"daffy\", \n",
        "        \"kicky\", \"zippy\", \"pawky\", \"biffy\", \"hippy\", \"baggy\", \"howdy\", \"cuddy\", \"daddy\", \"dowdy\",\n",
        "        \"dippy\", \"happy\", \"huffy\", \"foggy\",\n",
        "    ]\n",
        "    assert filter_absence(FUNNY_WORDS, \"u\") == [\n",
        "        \"poboy\", \"dobby\", \"hobby\", \"cocky\", \"bawdy\", \"miffy\", \"foamy\", \"jazzy\", \"caddy\", \"jaggy\", \n",
        "        \"poppy\", \"biddy\", \"choky\", \"byway\", \"dizzy\", \"moody\", \"gabby\", \"dicky\", \"doggy\", \"wiggy\", \n",
        "        \"hooky\", \"kiddy\", \"waddy\", \"woody\", \"doozy\", \"giddy\", \"gamay\", \"piggy\", \"divvy\", \"gawky\", \n",
        "        \"bobby\", \"woozy\", \"cooky\", \"mommy\", \"dodgy\", \"middy\", \"kooky\", \"jiffy\", \"picky\", \"comfy\", \n",
        "        \"copay\", \"cabby\", \"booby\", \"boomy\", \"mammy\", \"boody\", \"pommy\", \"zappy\", \"wacky\", \"jimmy\", \n",
        "        \"paddy\", \"pappy\", \"goofy\", \"goody\", \"hammy\", \"daffy\", \"kicky\", \"zippy\", \"pawky\", \"biffy\", \n",
        "        \"hippy\", \"baggy\", \"howdy\", \"daddy\", \"dowdy\", \"dippy\", \"happy\", \"foggy\",\n",
        "    ]\n",
        "    assert filter_absence(FUNNY_WORDS, \"y\") == []\n",
        "    assert filter_absence(FUNNY_WORDS, \"r\") == FUNNY_WORDS\n",
        "    assert filter_absence([], \"j\") == []\n",
        "    print(\"==== Test OK ====\")"
      ]
    },
    {
      "cell_type": "markdown",
      "metadata": {
        "tags": [],
        "id": "0ErXU5cJRYRD"
      },
      "source": [
        "## ข้อย่อยที่ 2.3: คำที่มีตัวอักษรนอกเหนือจากตำแหน่งที่กำหนด\n",
        "\n",
        "จงเติมฟังก์ชัน `filter_misplaced` ให้สมบูรณ์ เพื่อคัดกรองลิสต์ของคำที่มี 5 ตัวอักษร\n",
        "คงไว้เฉพาะคำที่มีตัวอักษรที่กำหนด แต่จะต้องไม่อยู่ในตำแหน่งที่กำหนดให้\n",
        "\n",
        "#### อินพุตของฟังก์ชัน\n",
        "\n",
        "- `wordbank`: ลิสต์ของชุดคำที่ต้องการพิจารณา ซึ่งแต่ละคำเป็นสตริงที่ประกอบไปด้วย a-z ความยาว 5 ตัวอักษร\n",
        "- `target`: ตัวอักษรตัวเดียวที่ต้องการพบในคำ\n",
        "- `unwanted_positions`: ลิสต์ของตำแหน่งทั้งหมดที่จะต้องไม่พบตัวอักษรที่กำหนด\n",
        "\n",
        "#### ฟังก์ชันรีเทิร์นค่า\n",
        "\n",
        "- ลิสต์ของคำที่กรองตามเงื่อนไขข้างต้น โดยลำดับของคำที่ปรากฏจะต้องคงเดิมจากลิสต์ที่เป็นอินพุต (Order Preserving)\n",
        "\n",
        "#### คำใบ้และข้อมูลเพิ่มเติม\n",
        "\n",
        "- อาจจำเป็นต้องใช้ลูป `for` สองชั้นเพื่อแก้ปัญหาข้อย่อยนี้"
      ]
    },
    {
      "cell_type": "code",
      "execution_count": 12,
      "metadata": {
        "id": "JuRI2GQtRYRE"
      },
      "outputs": [],
      "source": [
        "def filter_misplaced(wordbank: list[str], target: str, unwanted_positions: list[int]) -> list[str]:\n",
        "    # เขียนโค้ดของคุณตรงนี้\n",
        "    anslist = []\n",
        "    for w in wordbank:\n",
        "      if w.find(target) != -1:\n",
        "       counter = True\n",
        "       for p in unwanted_positions:\n",
        "          if w[p-1] == target:\n",
        "            counter = False\n",
        "       if counter:\n",
        "            anslist.append(w)\n",
        "    return anslist"
      ]
    },
    {
      "cell_type": "code",
      "execution_count": 13,
      "metadata": {
        "colab": {
          "base_uri": "https://localhost:8080/"
        },
        "id": "19gyOOjsRYRF",
        "outputId": "bce7537f-e93a-415b-8989-7f04a6a62c83"
      },
      "outputs": [
        {
          "output_type": "stream",
          "name": "stdout",
          "text": [
            "==== Test OK ====\n",
            "\u001b[32m.\u001b[0m\n"
          ]
        }
      ],
      "source": [
        "%%ipytest -qqs\n",
        "def test_filter_misplaced():\n",
        "    assert filter_misplaced([\"hippo\", \"zebra\", \"panda\", \"koala\"], \"a\", [2, 3]) == [\"zebra\"]\n",
        "    assert filter_misplaced([\"hippo\", \"zebra\", \"panda\", \"koala\"], \"o\", [1, 4]) == [\"hippo\", \"koala\"]\n",
        "    assert filter_misplaced([\"hippo\", \"zebra\", \"panda\", \"koala\"], \"x\", [1, 2, 5]) == []\n",
        "    assert filter_misplaced(FUNNY_WORDS, \"m\", [1, 4]) == [\n",
        "        \"jumpy\", \"bumpy\", \"dumpy\", \"gamay\", \"humpy\", \"comfy\",\n",
        "    ]\n",
        "    assert filter_misplaced(FUNNY_WORDS, \"u\", [2, 3]) == []\n",
        "    assert filter_misplaced(FUNNY_WORDS, \"f\", []) == [\n",
        "        \"miffy\", \"foamy\", \"fuzzy\", \"jiffy\", \"comfy\", \"goofy\", \"daffy\", \"biffy\", \"huffy\", \"foggy\",\n",
        "    ]\n",
        "    assert filter_misplaced(FUNNY_WORDS, \"y\", [3]) == FUNNY_WORDS\n",
        "    assert filter_misplaced(FUNNY_WORDS, \"o\", [1, 2, 3, 4, 5]) == []\n",
        "    assert filter_misplaced([], \"x\", [3, 5]) == []\n",
        "    print(\"==== Test OK ====\")"
      ]
    },
    {
      "cell_type": "markdown",
      "metadata": {
        "tags": [],
        "id": "Zzfxo_6tRYRG"
      },
      "source": [
        "# โจทย์ปัญหาที่ 3: สตริงย่อยนำหน้า\n",
        "\n",
        "(โจทย์ปัญหานี้มีปัญหาย่อย 2 ข้อ)\n",
        "\n",
        "**นิยาม:** เรากำหนดให้ **Prefix** ของสตริงหนึ่ง ๆ คือสตริงย่อยใด ๆ ที่เป็นส่วนหน้าสุดของสตริงนั้น\n",
        "ยกตัวอย่างเช่น สตริง `\"Hello, World!\"` ประกอบไปด้วย Prefix ดังต่อไปนี้\n",
        "- `\"\"`\n",
        "- `\"H\"`\n",
        "- `\"He\"`\n",
        "- `\"Hel\"`\n",
        "- `\"Hell\"`\n",
        "- `\"Hello\"`\n",
        "- `\"Hello,\"`\n",
        "- `\"Hello, \"`\n",
        "- `\"Hello, W\"`\n",
        "- `\"Hello, Wo\"`\n",
        "- `\"Hello, Wor\"`\n",
        "- `\"Hello, Worl\"`\n",
        "- `\"Hello, World\"`\n",
        "- `\"Hello, World!\"`\n",
        "\n",
        "สังเกตว่าสตริงเปล่า และสตริงตั้งต้น ล้วนนับเป็น Prefix ของสตริงดั้งเดิมด้วย"
      ]
    },
    {
      "cell_type": "markdown",
      "metadata": {
        "tags": [],
        "id": "N-t2At1JRYRH"
      },
      "source": [
        "## ข้อย่อยที่ 3.1: หา Prefix ทั้งหมดที่เป็นไปได้\n",
        "\n",
        "จงเติมฟังก์ชัน `all_prefixes` ให้สมบูรณ์ เพื่อคำนวณหาลิสต์ของ Prefix ทั้งหมดของสตริงที่กำหนดให้\n",
        "\n",
        "#### อินพุตของฟังก์ชัน\n",
        "\n",
        "- `s`: สตริงดั้งเดิมที่ต้องการนำมาคำนวณหา Prefix ทั้งหมด\n",
        "\n",
        "#### ฟังก์ชันรีเทิร์นค่า\n",
        "\n",
        "- ลิสต์ของ Prefix ทั้งหมดของ `s` โดยเรียงลำดับจากสั้นที่สุดไปยังยาวที่สุด"
      ]
    },
    {
      "cell_type": "code",
      "execution_count": 14,
      "metadata": {
        "tags": [],
        "id": "I-9WmKgRRYRI"
      },
      "outputs": [],
      "source": [
        "def all_prefixes(s: str) -> list[str]:\n",
        "    # เขียนโค้ดของคุณตรงนี้\n",
        "    length = len(s)\n",
        "    result_array=[]\n",
        "    result_array.append(\"\")\n",
        "    for i in range (length):\n",
        "      result = \"\"\n",
        "      for j in range(i+1):\n",
        "         result += s[j]\n",
        "      result_array.append(result)\n",
        "    return(result_array)"
      ]
    },
    {
      "cell_type": "code",
      "execution_count": 15,
      "metadata": {
        "colab": {
          "base_uri": "https://localhost:8080/"
        },
        "id": "EdHSt41RRYRI",
        "outputId": "91abd396-bcd8-4b1b-ce38-c9a3a84ad31b"
      },
      "outputs": [
        {
          "output_type": "stream",
          "name": "stdout",
          "text": [
            "==== Test OK ====\n",
            "\u001b[32m.\u001b[0m\n"
          ]
        }
      ],
      "source": [
        "%%ipytest -qqs\n",
        "def test_all_prefixes():\n",
        "    assert all_prefixes(\"Hello, World!\") == [\n",
        "        \"\",\n",
        "        \"H\",\n",
        "        \"He\",\n",
        "        \"Hel\",\n",
        "        \"Hell\",\n",
        "        \"Hello\",\n",
        "        \"Hello,\",\n",
        "        \"Hello, \",\n",
        "        \"Hello, W\",\n",
        "        \"Hello, Wo\",\n",
        "        \"Hello, Wor\",\n",
        "        \"Hello, Worl\",\n",
        "        \"Hello, World\",\n",
        "        \"Hello, World!\",\n",
        "    ]\n",
        "    assert all_prefixes(\"APPLES\") == [\"\", \"A\", \"AP\", \"APP\", \"APPL\", \"APPLE\", \"APPLES\"]\n",
        "    assert all_prefixes(\"👨‍🦱\") == [\"\", \"👨\", \"👨\\u200d\", \"👨\\u200d🦱\"]\n",
        "    assert all_prefixes(\"\") == [\"\"]\n",
        "    print(\"==== Test OK ====\")"
      ]
    },
    {
      "cell_type": "markdown",
      "metadata": {
        "tags": [],
        "id": "3z9Gth3uRYRJ"
      },
      "source": [
        "## ข้อย่อยที่ 3.2: หา Prefix ร่วมที่ยาวที่สุดของสตริงสองสาย\n",
        "\n",
        "จงเติมฟังก์ชัน `longest_common_prefix` ให้สมบูรณ์ เพื่อคำนวณหา Prefix ร่วมที่ยาวที่สุด\n",
        "\n",
        "#### อินพุตของฟังก์ชัน\n",
        "\n",
        "- `s1`: สตริงอันที่หนึ่ง\n",
        "- `s2`: สตริงอันที่สอง\n",
        "\n",
        "#### ฟังก์ชันรีเทิร์นค่า\n",
        "\n",
        "- Prefix ร่วมที่ยาวที่สุดของทั้ง `s1` และ `s2`\n",
        "\n",
        "#### ตัวอย่างอินพุตและค่าที่ต้องรีเทิร์น\n",
        "\n",
        "| `s1` | `s2` | ค่าที่รีเทิร์น |\n",
        "|------|------|-----------------|\n",
        "| `\"dolphin\"` | `\"dog\"` | `\"do\"` |\n",
        "| `\"dog\"` | `\"cat\"` | `\"\"` |\n",
        "| `\"ant\"` | `\"anteater\"` | `\"ant\"` |"
      ]
    },
    {
      "cell_type": "code",
      "execution_count": 16,
      "metadata": {
        "tags": [],
        "id": "ozeo-c11RYRJ"
      },
      "outputs": [],
      "source": [
        "def longest_common_prefix(s1: str, s2: str) -> str:\n",
        "    # เขียนโค้ดของคุณตรงนี้\n",
        "    result = \"\";\n",
        "    i = 0\n",
        "    j = 0\n",
        "    while i <= len(s1) - 1 and j <= len(s2) - 1:     \n",
        "        if s1[i] != s2[j]:\n",
        "            break            \n",
        "        result += s1[i]\n",
        "        i += 1\n",
        "        j += 1 \n",
        "    return (result)"
      ]
    },
    {
      "cell_type": "code",
      "execution_count": 17,
      "metadata": {
        "tags": [],
        "colab": {
          "base_uri": "https://localhost:8080/"
        },
        "id": "pC7Kf_yyRYRK",
        "outputId": "3b83ec89-30f0-43b6-9491-9153780f228d"
      },
      "outputs": [
        {
          "output_type": "stream",
          "name": "stdout",
          "text": [
            "==== Test OK ====\n",
            "\u001b[32m.\u001b[0m\n"
          ]
        }
      ],
      "source": [
        "%%ipytest -qqs\n",
        "def test_longest_common_prefix():\n",
        "    assert longest_common_prefix(\"dolphin\", \"dog\") == \"do\"\n",
        "    assert longest_common_prefix(\"dog\", \"cat\") == \"\"\n",
        "    assert longest_common_prefix(\"anteater\", \"ant\") == \"ant\"\n",
        "    assert longest_common_prefix(\"ant\", \"anteater\") == \"ant\"\n",
        "    assert longest_common_prefix(\"\", \"\") == \"\"\n",
        "    print(\"==== Test OK ====\")"
      ]
    },
    {
      "cell_type": "markdown",
      "metadata": {
        "tags": [],
        "id": "_hiK45RHRYRK"
      },
      "source": [
        "# โจทย์ปัญหาที่ 4: ปรากฎเพียงครั้งเดียว\n",
        "\n",
        "จงเติมฟังก์ชัน `appear_once` ให้สมบูรณ์ เพื่อคำนวณหาจำนวนเต็มที่ปรากฏในลิสต์ที่เป็นอินพุตเพียงครั้งเดียวเท่านั้น\n",
        "\n",
        "#### อินพุตของฟังก์ชัน\n",
        "\n",
        "- `numbers`: ลิสต์ของจำนวนเต็มที่ต้องพิจารณา\n",
        "\n",
        "#### ฟังก์ชันรีเทิร์นค่า\n",
        "\n",
        "- เซตของจำนวนเต็มทั้งหมดที่ปรากฏใน `numbers` เพียงครั้งเดียวพอดี\n",
        "\n",
        "#### คำใบ้และข้อมูลเพิ่มเติม\n",
        "\n",
        "- [Documentation ของประเภทข้อมูล `set`](https://docs.python.org/3/tutorial/datastructures.html#sets)\n",
        "- [Documentation ของประเภทข้อมูล `dict`](https://docs.python.org/3/tutorial/datastructures.html#dictionaries)"
      ]
    },
    {
      "cell_type": "code",
      "execution_count": 18,
      "metadata": {
        "id": "ayDRQTMNRYRL"
      },
      "outputs": [],
      "source": [
        "def appear_once(numbers: list[int]) -> set[int]:\n",
        "    # เขียนโค้ดของคุณตรงนี้\n",
        "    result = set()\n",
        "    ans = {}\n",
        "    for i in numbers:\n",
        "      if i in ans:\n",
        "        ans[i] = ans[i]+1\n",
        "      else:\n",
        "        ans[i] = 1\n",
        "    for k in ans:\n",
        "      if ans[k] == 1:\n",
        "        result.add(k)\n",
        "    return result"
      ]
    },
    {
      "cell_type": "code",
      "execution_count": 19,
      "metadata": {
        "colab": {
          "base_uri": "https://localhost:8080/"
        },
        "id": "gg_5oCPQRYRL",
        "outputId": "7e2ccef3-e367-4491-ed4a-48246278924f"
      },
      "outputs": [
        {
          "output_type": "stream",
          "name": "stdout",
          "text": [
            "==== Test OK ====\n",
            "\u001b[32m.\u001b[0m\n"
          ]
        }
      ],
      "source": [
        "%%ipytest -qqs\n",
        "def test_appear_once():\n",
        "    assert appear_once([1, 2, 3, 4, 5, 3, 6, 4, 8]) == {1, 2, 5, 6, 8}\n",
        "    assert appear_once([1, 3, 5, 7, 9]) == {1, 3, 5, 7, 9}\n",
        "    assert appear_once([1, 1, 2, 2, 3, 3, 3]) == set()\n",
        "    assert appear_once([]) == set()\n",
        "    print(\"==== Test OK ====\")"
      ]
    },
    {
      "cell_type": "markdown",
      "metadata": {
        "tags": [],
        "id": "pdWVDU1HRYRM"
      },
      "source": [
        "# โจทย์ปัญหาที่ 5: สร้างอาร์เรย์สองมิติ ที่นับเลขเรียงตามคอลัมน์เป็นหลัก\n",
        "\n",
        "จงเติมฟังก์ชัน `create_enumerate_array` ให้สมบูรณ์ เพื่อสร้างอาร์เรย์ NumPy สองมิติที่จะ $R$ แถวและ $C$ คอลัมน์  \n",
        "และสมาชิกแต่ละตัวคือ $1, 2, 3, \\ldots, RC$ เรียงทีละคอลัมน์จากจากบนล่าง และเรียงจากซ้ายไปขวา (โปรดดูเทสเคสประกอบ)\n",
        "\n",
        "#### อินพุตของฟังก์ชัน\n",
        "\n",
        "- `nrows`: จำนวนแถวที่ต้องการ\n",
        "- `ncols`: จำนวนคอลัมน์ที่ต้องการ\n",
        "\n",
        "#### ฟังก์ชันรีเทิร์นค่า\n",
        "\n",
        "- อาร์เรย์ที่มีรูปร่าง `(nrows, ncols)` และมีการจัดเรียงค่าของสมาชิกแต่ละตัวตามที่ระบุข้างต้น\n",
        "\n",
        "#### คำใบ้และข้อมูลเพิ่มเติม\n",
        "\n",
        "- [Documentation ของ `numpy.arange`](https://numpy.org/doc/stable/reference/generated/numpy.arange.html)\n",
        "- [Documentation ของ `numpy.reshape`](https://numpy.org/doc/stable/reference/generated/numpy.reshape.html)\n",
        "- [Documentation ของ `numpy.transpose`](https://numpy.org/doc/stable/reference/generated/numpy.transpose.html)"
      ]
    },
    {
      "cell_type": "code",
      "execution_count": 20,
      "metadata": {
        "id": "AtGSzX7ARYRM"
      },
      "outputs": [],
      "source": [
        "def create_enumerate_array(nrows: int, ncols: int) -> np.ndarray:\n",
        "    assert nrows > 0\n",
        "    assert ncols > 0\n",
        "    d = np.arange(1,((ncols*nrows)+1) , dtype=int).reshape((ncols,nrows))\n",
        "    x = np.transpose(d)\n",
        "    return x\n",
        "    ..."
      ]
    },
    {
      "cell_type": "code",
      "execution_count": 21,
      "metadata": {
        "colab": {
          "base_uri": "https://localhost:8080/"
        },
        "id": "K8Yz0ZZoRYRN",
        "outputId": "04cf48b5-0fdc-4b86-a060-fccaf09f8e7a"
      },
      "outputs": [
        {
          "output_type": "stream",
          "name": "stdout",
          "text": [
            "==== Test OK ====\n",
            "\u001b[32m.\u001b[0m\n"
          ]
        }
      ],
      "source": [
        "%%ipytest -qqs\n",
        "def test_create_enumerate_array():\n",
        "    np.testing.assert_array_equal(\n",
        "        create_enumerate_array(2, 3), \n",
        "        np.array([[1, 3, 5],\n",
        "                  [2, 4, 6]]),\n",
        "    )\n",
        "    np.testing.assert_array_equal(\n",
        "        create_enumerate_array(3, 2), \n",
        "        np.array([[1, 4],\n",
        "                  [2, 5],\n",
        "                  [3, 6]]),\n",
        "    )\n",
        "    np.testing.assert_array_equal(\n",
        "        create_enumerate_array(1, 1),\n",
        "        np.array([[1]]),\n",
        "    )\n",
        "    print(\"==== Test OK ====\")"
      ]
    },
    {
      "cell_type": "markdown",
      "metadata": {
        "tags": [],
        "id": "NjR_JKGeRYRN"
      },
      "source": [
        "# โจทย์ปัญหาที่ 6: สร้างอาร์เรย์เพื่อใช้ในการหมุนบนระนาบสองมิติ\n",
        "\n",
        "กำหนดให้ $p = (x, y)$ เป็นจุดในระนาบสองมิติ\n",
        "หากเราต้องการขยับจุดดังกล่าวด้วยกันหมุนรอบจุด $(0, 0)$ โดยทำมุม $\\theta$ องศาในทิศทวนเข็มนาฬิกา\n",
        "แล้วเราจะได้จุดใหม่ชื่อว่า $p^* = (x^*, y^*)$ ที่สอดคล้องกับสมการต่อไปนี้\n",
        "\n",
        "$$\n",
        "    \\left[\\matrix{x' \\\\ y'}\\right] \n",
        "    = \\left[\\matrix{\\cos\\theta & -\\sin\\theta \\\\ \\sin\\theta & \\cos\\theta}\\right]\n",
        "      \\left[\\matrix{x \\\\ y}\\right]\n",
        "$$\n",
        "\n",
        "(ทางขวามือของเครื่องหมายเท่ากับ คือการคูณเมตริกซ์ขนาด $2 \\times 2$ กับเวกเตอร์ความยาว $2$)\n",
        "\n",
        "จงเติมฟังก์ชัน `rotate_point` ให้สมบูรณ์ เพื่อคำนวณผลลัพธ์จากการหมุนจุดที่กำหนดให้ ด้วยองศาที่กำหนดให้\n",
        "\n",
        "#### อินพุตของฟังก์ชัน\n",
        "\n",
        "- `point`: อาร์เรย์ที่มีรูปร่าง $(2,)$ ซึ่งประกอบด้วยพิกัด $x$ และ $y$ ของจุดดั้งเดิม\n",
        "- `angle`: องศาที่หมุนจุดรอบจุด $(0, 0)$ ในทิศทวนเข็มนาฬิกา\n",
        "\n",
        "#### ฟังก์ชันรีเทิร์นค่า\n",
        "\n",
        "- อาร์เรย์ที่มีรูปร่าง $(2,)$ ระบุพิกัด $x$ และ $y$ ของจุดที่หมุนแล้ว\n",
        "\n",
        "#### คำใบ้และข้อมูลเพิ่มเติม\n",
        "\n",
        "- [Documentation ของ `numpy.deg2rad`](https://numpy.org/doc/stable/reference/generated/numpy.deg2rad.html)\n",
        "- [Documentation ของ `numpy.sin`](https://numpy.org/doc/stable/reference/generated/numpy.sin.html)\n",
        "- [Documentation ของ `numpy.cos`](https://numpy.org/doc/stable/reference/generated/numpy.cos.html)\n",
        "- [Documentation ของ `numpy.dot`](https://numpy.org/doc/stable/reference/generated/numpy.dot.html) (อาจจะใช้หรือไม่ก็ได้)\n",
        "- [Documentation ของ `numpy.matmul`](https://numpy.org/doc/stable/reference/generated/numpy.matmul.html) (อาจจะใช้หรือไม่ก็ได้)"
      ]
    },
    {
      "cell_type": "code",
      "execution_count": 22,
      "metadata": {
        "id": "W1tmTo8lRYRO"
      },
      "outputs": [],
      "source": [
        "def rotate_point(point: np.ndarray, angle: float) -> np.ndarray:\n",
        "    # มีการเขียนโค้ดไว้ให้บางส่วนแล้ว จะแก้ไขเฉพาะบางส่วน หรือทั้งหมดก็ได้\n",
        "    # 1. คำนวณหาค่า sine ของ cosine ของมุม angle\n",
        "    radian = np.deg2rad(angle)\n",
        "    sin_val = np.sin(radian)\n",
        "    cos_val = np.cos(radian)\n",
        "    # 2. สร้างเมตริกซ์การหมุนขนาด 2 x 2\n",
        "    rotate_matrix = ([[cos_val,-sin_val],\n",
        "                     [sin_val,cos_val]])\n",
        "    # 3. คูณเมตริกซ์กับเวกเตอร์ของจุด\n",
        "    new_point = rotate_matrix@point\n",
        "    return new_point"
      ]
    },
    {
      "cell_type": "code",
      "execution_count": 23,
      "metadata": {
        "colab": {
          "base_uri": "https://localhost:8080/"
        },
        "id": "9w-Rpu2rRYRO",
        "outputId": "64c9e686-b4c1-4fa7-d111-2f9ceaae3a8d"
      },
      "outputs": [
        {
          "output_type": "stream",
          "name": "stdout",
          "text": [
            "==== Test OK ====\n",
            "\u001b[32m.\u001b[0m\n"
          ]
        }
      ],
      "source": [
        "%%ipytest -qqs\n",
        "def test_rotate_point():\n",
        "    np.testing.assert_allclose(\n",
        "        rotate_point(np.array([1, 2]), 90), \n",
        "        np.array([-2, 1]),\n",
        "    )\n",
        "    np.testing.assert_allclose(\n",
        "        rotate_point(np.array([-4, 1]), -45), \n",
        "        np.array([-2.121320343559643, 3.5355339059327373]),\n",
        "    )\n",
        "    np.testing.assert_allclose(\n",
        "        rotate_point(np.array([7.25, -4.75]), 108), \n",
        "        np.array([2.2771452431836114, 8.362990466420865]),\n",
        "    )\n",
        "    np.testing.assert_allclose(\n",
        "        rotate_point(np.array([-12, -16]), -143.13010235415598), \n",
        "        np.array([0, 20]),\n",
        "        atol=1e-9,\n",
        "    )\n",
        "    np.testing.assert_allclose(\n",
        "        rotate_point(np.array([3, -6]), 0), \n",
        "        np.array([3, -6]),\n",
        "    )\n",
        "    np.testing.assert_allclose(\n",
        "        rotate_point(np.array([-8, 4]), 360), \n",
        "        np.array([-8, 4]),\n",
        "    )\n",
        "    np.testing.assert_allclose(\n",
        "        rotate_point(np.array([0, 0]), 17.29), \n",
        "        np.array([0, 0]),\n",
        "        atol=1e-9,\n",
        "    )\n",
        "    print(\"==== Test OK ====\")"
      ]
    },
    {
      "cell_type": "markdown",
      "metadata": {
        "tags": [],
        "id": "KNTK7blqRYRP"
      },
      "source": [
        "# โจทย์ปัญหาที่ 7: ลบคอลัมน์ที่ผลรวมเป็นลบทิ้ง\n",
        "\n",
        "จงเติมฟังก์ชัน `remove_neg_sum_cols` ให้สมบูรณ์ ซึ่งรับอาร์เรย์สองมิติเป็นอินพุต\n",
        "จากนั้นลบทุกคอลัมน์ที่มีผลรวมเป็นลบทิ้ง แล้วจึงคืนผลลัพธ์ออกมาเป็นอาร์เรย์ใหม่จากฟังก์ชัน\n",
        "\n",
        "#### อินพุตของฟังก์ชัน\n",
        "\n",
        "- `array`: อาร์เรย์สองมิติ\n",
        "\n",
        "#### ฟังก์ชันรีเทิร์นค่า\n",
        "\n",
        "- อาร์เรย์ใหม่ที่เกิดจากการนำอาร์เรย์ที่เป็นอินพุดมาประมวลผล ด้วยการลบคอลัมน์ที่มีผลรวมเป็นลบทิ้ง\n",
        "  พึงระวังว่าอาร์เรย์ที่รีเทิร์นอาจจะมี 0 คอลัมน์ก็ได้ ทั้งนี้จำนวนของแถวจะไม่มีทางเปลี่ยนแปลง\n",
        "\n",
        "#### คำใบ้และข้อมูลเพิ่มเติม\n",
        "\n",
        "- [Documentation ของ `numpy.ndarray.sum`](https://numpy.org/doc/stable/reference/generated/numpy.ndarray.sum.html)\n",
        "- [Documentation ที่เกี่ยวของกับ NumPy indexing](https://numpy.org/doc/stable/user/basics.indexing.html)"
      ]
    },
    {
      "cell_type": "code",
      "execution_count": 24,
      "metadata": {
        "id": "oraDcVp9RYRP"
      },
      "outputs": [],
      "source": [
        "def remove_neg_sum_cols(array: np.ndarray) -> np.ndarray:\n",
        "    # เขียนโค้ดของคุณตรงนี้\n",
        "    sum = np.sum(array,axis = 0)\n",
        "    result =[]\n",
        "    for i in range(len(array)):\n",
        "      result.append([])\n",
        "\n",
        "    for k,v in enumerate(sum):\n",
        "      if v >= 0:\n",
        "        for i in range(len(array)):\n",
        "          result[i].append(array[i][k])\n",
        "    return result"
      ]
    },
    {
      "cell_type": "code",
      "execution_count": 25,
      "metadata": {
        "colab": {
          "base_uri": "https://localhost:8080/"
        },
        "id": "0AXFWHIcRYRQ",
        "outputId": "1b074c4c-9bdd-47c9-bc24-7b5ca43b002d"
      },
      "outputs": [
        {
          "output_type": "stream",
          "name": "stdout",
          "text": [
            "==== Test OK ====\n",
            "\u001b[32m.\u001b[0m\n"
          ]
        }
      ],
      "source": [
        "%%ipytest -qqs\n",
        "def test_remove_neg_sum_cols():\n",
        "    np.testing.assert_equal(\n",
        "        remove_neg_sum_cols(np.array([\n",
        "            [ 3,  2, -6, -3, -6],\n",
        "            [-3, -5,  1,  3, -5],\n",
        "            [ 3,  2,  2, -1,  2],\n",
        "            [-3,  1, -5, -1, -3],\n",
        "        ])),\n",
        "        np.array([\n",
        "            [ 3,  2],\n",
        "            [-3, -5],\n",
        "            [ 3,  2],\n",
        "            [-3,  1],\n",
        "        ]),\n",
        "    )\n",
        "    np.testing.assert_equal(\n",
        "        remove_neg_sum_cols(np.array([\n",
        "            [ -5, -12,  -9,  -6],\n",
        "            [-15,   2,   2,  -9],\n",
        "            [-11,  -7, -15,   4],\n",
        "        ])),\n",
        "        np.array([[], [], []]),\n",
        "    )\n",
        "    np.testing.assert_equal(\n",
        "        remove_neg_sum_cols(np.array([\n",
        "            [ 0,  3,  3,  1],\n",
        "            [ 4,  0,  3, -2],\n",
        "            [-1,  2,  4,  3],\n",
        "        ])),\n",
        "        np.array([\n",
        "            [ 0,  3,  3,  1],\n",
        "            [ 4,  0,  3, -2],\n",
        "            [-1,  2,  4,  3],\n",
        "        ]),\n",
        "    )\n",
        "    np.testing.assert_equal(\n",
        "        remove_neg_sum_cols(np.array([\n",
        "            [ 7,  2, -6],\n",
        "            [ 3, -8, -4],\n",
        "            [-4, -9, -4],\n",
        "            [-6, 13, 15],\n",
        "        ])),\n",
        "        np.array([\n",
        "            [ 7, -6],\n",
        "            [ 3, -4],\n",
        "            [-4, -4],\n",
        "            [-6, 15],\n",
        "        ]),\n",
        "    )\n",
        "    print(\"==== Test OK ====\")"
      ]
    },
    {
      "cell_type": "markdown",
      "metadata": {
        "tags": [],
        "id": "NzsUN8TcRYRR"
      },
      "source": [
        "# โจทย์ปัญหาที่ 8: ลบค่าทุกตัวด้วยจำนวนที่น้อยที่สุดในแต่ละแถวนั้น ๆ\n",
        "\n",
        "จงเติมฟังก์ชัน `subtract_by_row_min` ให้สมบูรณ์ ซึ่งรับอาร์เรย์สองมิติเป็นอินพุต\n",
        "จากนั้นลบค่าทุกค่าในอาร์เรย์นั้น ๆ ด้วยค่าที่น้อยที่สุดที่อยู่ในแถวเดียวกัน แล้วจึงคืนผลลัพธ์ออกมาเป็นอาร์เรย์ใหม่จากฟังก์ชัน\n",
        "\n",
        "#### อินพุตของฟังก์ชัน\n",
        "\n",
        "- `array`: อาร์เรย์สองมิติ\n",
        "\n",
        "#### ฟังก์ชันรีเทิร์นค่า\n",
        "\n",
        "- อาร์เรย์ใหม่ที่เกิดจากการนำอาร์เรย์ที่เป็นอินพุดมาประมวลผล ด้วยการลบค่าสมาชิกทุกตัวในอาร์เรย์\n",
        "  ด้วยค่าที่น้อยที่สุดในปรากฏในแถวเดียวกัน\n",
        "\n",
        "#### คำใบ้และข้อมูลเพิ่มเติม\n",
        "\n",
        "- [Documentation ของ `numpy.ndarray.min`](https://numpy.org/doc/stable/reference/generated/numpy.ndarray.min.html)\n",
        "- [Documentation ของ `numpy.expand_dims`](https://numpy.org/doc/stable/reference/generated/numpy.expand_dims.html) (อาจจะใช้หรือไม่ก็ได้)\n",
        "- [Documentation ของ `numpy.newaxis`](https://numpy.org/doc/stable/reference/constants.html#numpy.newaxis) (อาจจะใช้หรือไม่ก็ได้)"
      ]
    },
    {
      "cell_type": "code",
      "execution_count": 26,
      "metadata": {
        "id": "6_B2NX3lRYRR"
      },
      "outputs": [],
      "source": [
        "def subtract_by_row_min(array: np.ndarray) -> np.ndarray:\n",
        "    # เขียนโค้ดของคุณตรงนี้\n",
        "    #np.min.(axis=1) = y\n",
        "    y = np.amin(array,axis = 1)\n",
        "    for i in range(len(array)):\n",
        "      for j in range(len(array[i])):\n",
        "        array[i][j] = array[i][j] - y[i]\n",
        "    return array"
      ]
    },
    {
      "cell_type": "code",
      "execution_count": 27,
      "metadata": {
        "colab": {
          "base_uri": "https://localhost:8080/"
        },
        "id": "9QvHlQdeRYRS",
        "outputId": "573475d1-52c0-45b8-f5a6-69043c833d28"
      },
      "outputs": [
        {
          "output_type": "stream",
          "name": "stdout",
          "text": [
            "==== Test OK ====\n",
            "\u001b[32m.\u001b[0m\n"
          ]
        }
      ],
      "source": [
        "%%ipytest -qqs\n",
        "def test_subtract_by_row_min():\n",
        "    np.testing.assert_equal(\n",
        "        subtract_by_row_min(np.array([\n",
        "            [ 48,  54,  79, -22, -23],\n",
        "            [-72, -39,  45, -21, -53],\n",
        "            [100,  62, -74,   0,  95],\n",
        "            [ 99,  -2,  58,  12,  60],\n",
        "        ])),\n",
        "        np.array([\n",
        "            [ 71,  77, 102,   1,   0],\n",
        "            [  0,  33, 117,  51,  19],\n",
        "            [174, 136,   0,  74, 169],\n",
        "            [101,   0,  60,  14,  62],\n",
        "        ]),\n",
        "    )\n",
        "    np.testing.assert_equal(\n",
        "        subtract_by_row_min(np.array([\n",
        "            [16, 70, 24, -9],\n",
        "            [90, 76, 49, 91],\n",
        "            [65, 72, 80, 55],\n",
        "        ])),\n",
        "        np.array([\n",
        "            [25, 79, 33,  0],\n",
        "            [41, 27,  0, 42],\n",
        "            [10, 17, 25,  0],\n",
        "        ]),\n",
        "    )\n",
        "    np.testing.assert_equal(\n",
        "        subtract_by_row_min(np.array([\n",
        "            [241, 319, 241],\n",
        "            [254, 266, 118],\n",
        "        ])),\n",
        "        np.array([\n",
        "            [  0,  78,   0],\n",
        "            [136, 148,   0],\n",
        "        ]),\n",
        "    )\n",
        "    print(\"==== Test OK ====\")"
      ]
    },
    {
      "cell_type": "markdown",
      "metadata": {
        "id": "4VmtcVj_RYRS"
      },
      "source": [
        "# ข้อมูลงานกีฬาสีของนักเรียนมัธยม\n",
        "\n",
        "สำหรับโจทย์ปัญหาข้อที่ 9-12 เราจะสนใจข้อมูลสถิติการแข่งกีฬาของโรงเรียนแห่งหนึ่ง ซึ่งมีคอลัมน์ดังต่อไปนี้\n",
        "\n",
        "- `first_name`: ชื่อต้น\n",
        "- `last_name`: นามสกุล\n",
        "- `class`: ชั้นเรียน มีค่าตั้งแต่ 7 ถึง 12\n",
        "- `team_color`: ทีมกีฬาสีจากทั้งหมด 4 ทีม\n",
        "- `100m_running_sec`: เวลาที่ใช้วิ่งระยะ 100 เมตร ในหน่วยวินาที\n",
        "- `minigolf_strokes`: จำนวนสโตร์กในกีฬามินิกอล์ฟ\n",
        "- `high_jump_cm`: ความสูงที่กระโดดได้ในกีฬากระโดดสูง ในหน่วยเซนติเมตร\n",
        "- `bowling_score`: คะแนนที่ได้จากการเล่นเกมโบว์ลิ่ง"
      ]
    },
    {
      "cell_type": "code",
      "execution_count": 28,
      "metadata": {
        "colab": {
          "base_uri": "https://localhost:8080/",
          "height": 726
        },
        "id": "PZTaNmH7RYRT",
        "outputId": "daf90dc8-fa4b-4590-b5bd-154e4826131e"
      },
      "outputs": [
        {
          "output_type": "display_data",
          "data": {
            "text/plain": [
              "  first_name last_name  class         team_color  100m_running_sec  \\\n",
              "0       Ryan     Allen      8         whale_blue             16.85   \n",
              "1   Kathleen     Gomez      7    duckling_yellow             12.22   \n",
              "2    Anthony    Nguyen      8         salmon_red             18.58   \n",
              "3    William      Hill      9         whale_blue             16.75   \n",
              "4    Dorothy  Gonzales     12  caterpillar_green             14.35   \n",
              "5     Steven     Lewis      8         salmon_red             19.70   \n",
              "6    Richard    Miller      7    duckling_yellow             18.70   \n",
              "7       Lisa  Campbell      9    duckling_yellow             19.91   \n",
              "8     Justin     Brown      7    duckling_yellow             12.00   \n",
              "9      Carol     Allen     10    duckling_yellow             15.15   \n",
              "\n",
              "   minigolf_strokes  high_jump_cm  bowling_score  \n",
              "0                24         69.65            135  \n",
              "1                29        121.28             51  \n",
              "2                50         89.77            201  \n",
              "3                57         64.31            254  \n",
              "4                55        115.82             81  \n",
              "5                42         89.91             22  \n",
              "6                54        106.12            240  \n",
              "7                70         98.93            278  \n",
              "8                32        102.99            157  \n",
              "9                69        109.31            121  "
            ],
            "text/html": [
              "\n",
              "  <div id=\"df-76732606-f90a-483c-82d5-87a6789e1bb9\">\n",
              "    <div class=\"colab-df-container\">\n",
              "      <div>\n",
              "<style scoped>\n",
              "    .dataframe tbody tr th:only-of-type {\n",
              "        vertical-align: middle;\n",
              "    }\n",
              "\n",
              "    .dataframe tbody tr th {\n",
              "        vertical-align: top;\n",
              "    }\n",
              "\n",
              "    .dataframe thead th {\n",
              "        text-align: right;\n",
              "    }\n",
              "</style>\n",
              "<table border=\"1\" class=\"dataframe\">\n",
              "  <thead>\n",
              "    <tr style=\"text-align: right;\">\n",
              "      <th></th>\n",
              "      <th>first_name</th>\n",
              "      <th>last_name</th>\n",
              "      <th>class</th>\n",
              "      <th>team_color</th>\n",
              "      <th>100m_running_sec</th>\n",
              "      <th>minigolf_strokes</th>\n",
              "      <th>high_jump_cm</th>\n",
              "      <th>bowling_score</th>\n",
              "    </tr>\n",
              "  </thead>\n",
              "  <tbody>\n",
              "    <tr>\n",
              "      <th>0</th>\n",
              "      <td>Ryan</td>\n",
              "      <td>Allen</td>\n",
              "      <td>8</td>\n",
              "      <td>whale_blue</td>\n",
              "      <td>16.85</td>\n",
              "      <td>24</td>\n",
              "      <td>69.65</td>\n",
              "      <td>135</td>\n",
              "    </tr>\n",
              "    <tr>\n",
              "      <th>1</th>\n",
              "      <td>Kathleen</td>\n",
              "      <td>Gomez</td>\n",
              "      <td>7</td>\n",
              "      <td>duckling_yellow</td>\n",
              "      <td>12.22</td>\n",
              "      <td>29</td>\n",
              "      <td>121.28</td>\n",
              "      <td>51</td>\n",
              "    </tr>\n",
              "    <tr>\n",
              "      <th>2</th>\n",
              "      <td>Anthony</td>\n",
              "      <td>Nguyen</td>\n",
              "      <td>8</td>\n",
              "      <td>salmon_red</td>\n",
              "      <td>18.58</td>\n",
              "      <td>50</td>\n",
              "      <td>89.77</td>\n",
              "      <td>201</td>\n",
              "    </tr>\n",
              "    <tr>\n",
              "      <th>3</th>\n",
              "      <td>William</td>\n",
              "      <td>Hill</td>\n",
              "      <td>9</td>\n",
              "      <td>whale_blue</td>\n",
              "      <td>16.75</td>\n",
              "      <td>57</td>\n",
              "      <td>64.31</td>\n",
              "      <td>254</td>\n",
              "    </tr>\n",
              "    <tr>\n",
              "      <th>4</th>\n",
              "      <td>Dorothy</td>\n",
              "      <td>Gonzales</td>\n",
              "      <td>12</td>\n",
              "      <td>caterpillar_green</td>\n",
              "      <td>14.35</td>\n",
              "      <td>55</td>\n",
              "      <td>115.82</td>\n",
              "      <td>81</td>\n",
              "    </tr>\n",
              "    <tr>\n",
              "      <th>5</th>\n",
              "      <td>Steven</td>\n",
              "      <td>Lewis</td>\n",
              "      <td>8</td>\n",
              "      <td>salmon_red</td>\n",
              "      <td>19.70</td>\n",
              "      <td>42</td>\n",
              "      <td>89.91</td>\n",
              "      <td>22</td>\n",
              "    </tr>\n",
              "    <tr>\n",
              "      <th>6</th>\n",
              "      <td>Richard</td>\n",
              "      <td>Miller</td>\n",
              "      <td>7</td>\n",
              "      <td>duckling_yellow</td>\n",
              "      <td>18.70</td>\n",
              "      <td>54</td>\n",
              "      <td>106.12</td>\n",
              "      <td>240</td>\n",
              "    </tr>\n",
              "    <tr>\n",
              "      <th>7</th>\n",
              "      <td>Lisa</td>\n",
              "      <td>Campbell</td>\n",
              "      <td>9</td>\n",
              "      <td>duckling_yellow</td>\n",
              "      <td>19.91</td>\n",
              "      <td>70</td>\n",
              "      <td>98.93</td>\n",
              "      <td>278</td>\n",
              "    </tr>\n",
              "    <tr>\n",
              "      <th>8</th>\n",
              "      <td>Justin</td>\n",
              "      <td>Brown</td>\n",
              "      <td>7</td>\n",
              "      <td>duckling_yellow</td>\n",
              "      <td>12.00</td>\n",
              "      <td>32</td>\n",
              "      <td>102.99</td>\n",
              "      <td>157</td>\n",
              "    </tr>\n",
              "    <tr>\n",
              "      <th>9</th>\n",
              "      <td>Carol</td>\n",
              "      <td>Allen</td>\n",
              "      <td>10</td>\n",
              "      <td>duckling_yellow</td>\n",
              "      <td>15.15</td>\n",
              "      <td>69</td>\n",
              "      <td>109.31</td>\n",
              "      <td>121</td>\n",
              "    </tr>\n",
              "  </tbody>\n",
              "</table>\n",
              "</div>\n",
              "      <button class=\"colab-df-convert\" onclick=\"convertToInteractive('df-76732606-f90a-483c-82d5-87a6789e1bb9')\"\n",
              "              title=\"Convert this dataframe to an interactive table.\"\n",
              "              style=\"display:none;\">\n",
              "        \n",
              "  <svg xmlns=\"http://www.w3.org/2000/svg\" height=\"24px\"viewBox=\"0 0 24 24\"\n",
              "       width=\"24px\">\n",
              "    <path d=\"M0 0h24v24H0V0z\" fill=\"none\"/>\n",
              "    <path d=\"M18.56 5.44l.94 2.06.94-2.06 2.06-.94-2.06-.94-.94-2.06-.94 2.06-2.06.94zm-11 1L8.5 8.5l.94-2.06 2.06-.94-2.06-.94L8.5 2.5l-.94 2.06-2.06.94zm10 10l.94 2.06.94-2.06 2.06-.94-2.06-.94-.94-2.06-.94 2.06-2.06.94z\"/><path d=\"M17.41 7.96l-1.37-1.37c-.4-.4-.92-.59-1.43-.59-.52 0-1.04.2-1.43.59L10.3 9.45l-7.72 7.72c-.78.78-.78 2.05 0 2.83L4 21.41c.39.39.9.59 1.41.59.51 0 1.02-.2 1.41-.59l7.78-7.78 2.81-2.81c.8-.78.8-2.07 0-2.86zM5.41 20L4 18.59l7.72-7.72 1.47 1.35L5.41 20z\"/>\n",
              "  </svg>\n",
              "      </button>\n",
              "      \n",
              "  <style>\n",
              "    .colab-df-container {\n",
              "      display:flex;\n",
              "      flex-wrap:wrap;\n",
              "      gap: 12px;\n",
              "    }\n",
              "\n",
              "    .colab-df-convert {\n",
              "      background-color: #E8F0FE;\n",
              "      border: none;\n",
              "      border-radius: 50%;\n",
              "      cursor: pointer;\n",
              "      display: none;\n",
              "      fill: #1967D2;\n",
              "      height: 32px;\n",
              "      padding: 0 0 0 0;\n",
              "      width: 32px;\n",
              "    }\n",
              "\n",
              "    .colab-df-convert:hover {\n",
              "      background-color: #E2EBFA;\n",
              "      box-shadow: 0px 1px 2px rgba(60, 64, 67, 0.3), 0px 1px 3px 1px rgba(60, 64, 67, 0.15);\n",
              "      fill: #174EA6;\n",
              "    }\n",
              "\n",
              "    [theme=dark] .colab-df-convert {\n",
              "      background-color: #3B4455;\n",
              "      fill: #D2E3FC;\n",
              "    }\n",
              "\n",
              "    [theme=dark] .colab-df-convert:hover {\n",
              "      background-color: #434B5C;\n",
              "      box-shadow: 0px 1px 3px 1px rgba(0, 0, 0, 0.15);\n",
              "      filter: drop-shadow(0px 1px 2px rgba(0, 0, 0, 0.3));\n",
              "      fill: #FFFFFF;\n",
              "    }\n",
              "  </style>\n",
              "\n",
              "      <script>\n",
              "        const buttonEl =\n",
              "          document.querySelector('#df-76732606-f90a-483c-82d5-87a6789e1bb9 button.colab-df-convert');\n",
              "        buttonEl.style.display =\n",
              "          google.colab.kernel.accessAllowed ? 'block' : 'none';\n",
              "\n",
              "        async function convertToInteractive(key) {\n",
              "          const element = document.querySelector('#df-76732606-f90a-483c-82d5-87a6789e1bb9');\n",
              "          const dataTable =\n",
              "            await google.colab.kernel.invokeFunction('convertToInteractive',\n",
              "                                                     [key], {});\n",
              "          if (!dataTable) return;\n",
              "\n",
              "          const docLinkHtml = 'Like what you see? Visit the ' +\n",
              "            '<a target=\"_blank\" href=https://colab.research.google.com/notebooks/data_table.ipynb>data table notebook</a>'\n",
              "            + ' to learn more about interactive tables.';\n",
              "          element.innerHTML = '';\n",
              "          dataTable['output_type'] = 'display_data';\n",
              "          await google.colab.output.renderOutput(dataTable, element);\n",
              "          const docLink = document.createElement('div');\n",
              "          docLink.innerHTML = docLinkHtml;\n",
              "          element.appendChild(docLink);\n",
              "        }\n",
              "      </script>\n",
              "    </div>\n",
              "  </div>\n",
              "  "
            ]
          },
          "metadata": {}
        },
        {
          "output_type": "display_data",
          "data": {
            "text/plain": [
              "    first_name  last_name  class         team_color  100m_running_sec  \\\n",
              "190     Angela      Moore     10         salmon_red             15.61   \n",
              "191     Amanda     Wilson     11         salmon_red             14.82   \n",
              "192    Shirley   Gonzales      8  caterpillar_green             16.36   \n",
              "193  Stephanie  Rodriguez     12         whale_blue             14.20   \n",
              "194     Andrew   Gonzales      8         whale_blue             15.95   \n",
              "195    Michael   Martinez     12    duckling_yellow             17.93   \n",
              "196       Paul   Martinez      8         whale_blue             11.41   \n",
              "197     Nicole      Baker      9         whale_blue             17.98   \n",
              "198      Helen      Davis      8  caterpillar_green             11.64   \n",
              "199     Joseph       Hill     10  caterpillar_green             13.63   \n",
              "\n",
              "     minigolf_strokes  high_jump_cm  bowling_score  \n",
              "190                21         70.88             71  \n",
              "191                55         62.54             37  \n",
              "192                68         93.90            228  \n",
              "193                65        102.90             31  \n",
              "194                36         81.61            222  \n",
              "195                44         92.19             30  \n",
              "196                33        115.60            188  \n",
              "197                66         71.17            151  \n",
              "198                46         96.10             43  \n",
              "199                42         71.90            251  "
            ],
            "text/html": [
              "\n",
              "  <div id=\"df-8ef68f14-f563-4dfa-9299-dd972627d5ea\">\n",
              "    <div class=\"colab-df-container\">\n",
              "      <div>\n",
              "<style scoped>\n",
              "    .dataframe tbody tr th:only-of-type {\n",
              "        vertical-align: middle;\n",
              "    }\n",
              "\n",
              "    .dataframe tbody tr th {\n",
              "        vertical-align: top;\n",
              "    }\n",
              "\n",
              "    .dataframe thead th {\n",
              "        text-align: right;\n",
              "    }\n",
              "</style>\n",
              "<table border=\"1\" class=\"dataframe\">\n",
              "  <thead>\n",
              "    <tr style=\"text-align: right;\">\n",
              "      <th></th>\n",
              "      <th>first_name</th>\n",
              "      <th>last_name</th>\n",
              "      <th>class</th>\n",
              "      <th>team_color</th>\n",
              "      <th>100m_running_sec</th>\n",
              "      <th>minigolf_strokes</th>\n",
              "      <th>high_jump_cm</th>\n",
              "      <th>bowling_score</th>\n",
              "    </tr>\n",
              "  </thead>\n",
              "  <tbody>\n",
              "    <tr>\n",
              "      <th>190</th>\n",
              "      <td>Angela</td>\n",
              "      <td>Moore</td>\n",
              "      <td>10</td>\n",
              "      <td>salmon_red</td>\n",
              "      <td>15.61</td>\n",
              "      <td>21</td>\n",
              "      <td>70.88</td>\n",
              "      <td>71</td>\n",
              "    </tr>\n",
              "    <tr>\n",
              "      <th>191</th>\n",
              "      <td>Amanda</td>\n",
              "      <td>Wilson</td>\n",
              "      <td>11</td>\n",
              "      <td>salmon_red</td>\n",
              "      <td>14.82</td>\n",
              "      <td>55</td>\n",
              "      <td>62.54</td>\n",
              "      <td>37</td>\n",
              "    </tr>\n",
              "    <tr>\n",
              "      <th>192</th>\n",
              "      <td>Shirley</td>\n",
              "      <td>Gonzales</td>\n",
              "      <td>8</td>\n",
              "      <td>caterpillar_green</td>\n",
              "      <td>16.36</td>\n",
              "      <td>68</td>\n",
              "      <td>93.90</td>\n",
              "      <td>228</td>\n",
              "    </tr>\n",
              "    <tr>\n",
              "      <th>193</th>\n",
              "      <td>Stephanie</td>\n",
              "      <td>Rodriguez</td>\n",
              "      <td>12</td>\n",
              "      <td>whale_blue</td>\n",
              "      <td>14.20</td>\n",
              "      <td>65</td>\n",
              "      <td>102.90</td>\n",
              "      <td>31</td>\n",
              "    </tr>\n",
              "    <tr>\n",
              "      <th>194</th>\n",
              "      <td>Andrew</td>\n",
              "      <td>Gonzales</td>\n",
              "      <td>8</td>\n",
              "      <td>whale_blue</td>\n",
              "      <td>15.95</td>\n",
              "      <td>36</td>\n",
              "      <td>81.61</td>\n",
              "      <td>222</td>\n",
              "    </tr>\n",
              "    <tr>\n",
              "      <th>195</th>\n",
              "      <td>Michael</td>\n",
              "      <td>Martinez</td>\n",
              "      <td>12</td>\n",
              "      <td>duckling_yellow</td>\n",
              "      <td>17.93</td>\n",
              "      <td>44</td>\n",
              "      <td>92.19</td>\n",
              "      <td>30</td>\n",
              "    </tr>\n",
              "    <tr>\n",
              "      <th>196</th>\n",
              "      <td>Paul</td>\n",
              "      <td>Martinez</td>\n",
              "      <td>8</td>\n",
              "      <td>whale_blue</td>\n",
              "      <td>11.41</td>\n",
              "      <td>33</td>\n",
              "      <td>115.60</td>\n",
              "      <td>188</td>\n",
              "    </tr>\n",
              "    <tr>\n",
              "      <th>197</th>\n",
              "      <td>Nicole</td>\n",
              "      <td>Baker</td>\n",
              "      <td>9</td>\n",
              "      <td>whale_blue</td>\n",
              "      <td>17.98</td>\n",
              "      <td>66</td>\n",
              "      <td>71.17</td>\n",
              "      <td>151</td>\n",
              "    </tr>\n",
              "    <tr>\n",
              "      <th>198</th>\n",
              "      <td>Helen</td>\n",
              "      <td>Davis</td>\n",
              "      <td>8</td>\n",
              "      <td>caterpillar_green</td>\n",
              "      <td>11.64</td>\n",
              "      <td>46</td>\n",
              "      <td>96.10</td>\n",
              "      <td>43</td>\n",
              "    </tr>\n",
              "    <tr>\n",
              "      <th>199</th>\n",
              "      <td>Joseph</td>\n",
              "      <td>Hill</td>\n",
              "      <td>10</td>\n",
              "      <td>caterpillar_green</td>\n",
              "      <td>13.63</td>\n",
              "      <td>42</td>\n",
              "      <td>71.90</td>\n",
              "      <td>251</td>\n",
              "    </tr>\n",
              "  </tbody>\n",
              "</table>\n",
              "</div>\n",
              "      <button class=\"colab-df-convert\" onclick=\"convertToInteractive('df-8ef68f14-f563-4dfa-9299-dd972627d5ea')\"\n",
              "              title=\"Convert this dataframe to an interactive table.\"\n",
              "              style=\"display:none;\">\n",
              "        \n",
              "  <svg xmlns=\"http://www.w3.org/2000/svg\" height=\"24px\"viewBox=\"0 0 24 24\"\n",
              "       width=\"24px\">\n",
              "    <path d=\"M0 0h24v24H0V0z\" fill=\"none\"/>\n",
              "    <path d=\"M18.56 5.44l.94 2.06.94-2.06 2.06-.94-2.06-.94-.94-2.06-.94 2.06-2.06.94zm-11 1L8.5 8.5l.94-2.06 2.06-.94-2.06-.94L8.5 2.5l-.94 2.06-2.06.94zm10 10l.94 2.06.94-2.06 2.06-.94-2.06-.94-.94-2.06-.94 2.06-2.06.94z\"/><path d=\"M17.41 7.96l-1.37-1.37c-.4-.4-.92-.59-1.43-.59-.52 0-1.04.2-1.43.59L10.3 9.45l-7.72 7.72c-.78.78-.78 2.05 0 2.83L4 21.41c.39.39.9.59 1.41.59.51 0 1.02-.2 1.41-.59l7.78-7.78 2.81-2.81c.8-.78.8-2.07 0-2.86zM5.41 20L4 18.59l7.72-7.72 1.47 1.35L5.41 20z\"/>\n",
              "  </svg>\n",
              "      </button>\n",
              "      \n",
              "  <style>\n",
              "    .colab-df-container {\n",
              "      display:flex;\n",
              "      flex-wrap:wrap;\n",
              "      gap: 12px;\n",
              "    }\n",
              "\n",
              "    .colab-df-convert {\n",
              "      background-color: #E8F0FE;\n",
              "      border: none;\n",
              "      border-radius: 50%;\n",
              "      cursor: pointer;\n",
              "      display: none;\n",
              "      fill: #1967D2;\n",
              "      height: 32px;\n",
              "      padding: 0 0 0 0;\n",
              "      width: 32px;\n",
              "    }\n",
              "\n",
              "    .colab-df-convert:hover {\n",
              "      background-color: #E2EBFA;\n",
              "      box-shadow: 0px 1px 2px rgba(60, 64, 67, 0.3), 0px 1px 3px 1px rgba(60, 64, 67, 0.15);\n",
              "      fill: #174EA6;\n",
              "    }\n",
              "\n",
              "    [theme=dark] .colab-df-convert {\n",
              "      background-color: #3B4455;\n",
              "      fill: #D2E3FC;\n",
              "    }\n",
              "\n",
              "    [theme=dark] .colab-df-convert:hover {\n",
              "      background-color: #434B5C;\n",
              "      box-shadow: 0px 1px 3px 1px rgba(0, 0, 0, 0.15);\n",
              "      filter: drop-shadow(0px 1px 2px rgba(0, 0, 0, 0.3));\n",
              "      fill: #FFFFFF;\n",
              "    }\n",
              "  </style>\n",
              "\n",
              "      <script>\n",
              "        const buttonEl =\n",
              "          document.querySelector('#df-8ef68f14-f563-4dfa-9299-dd972627d5ea button.colab-df-convert');\n",
              "        buttonEl.style.display =\n",
              "          google.colab.kernel.accessAllowed ? 'block' : 'none';\n",
              "\n",
              "        async function convertToInteractive(key) {\n",
              "          const element = document.querySelector('#df-8ef68f14-f563-4dfa-9299-dd972627d5ea');\n",
              "          const dataTable =\n",
              "            await google.colab.kernel.invokeFunction('convertToInteractive',\n",
              "                                                     [key], {});\n",
              "          if (!dataTable) return;\n",
              "\n",
              "          const docLinkHtml = 'Like what you see? Visit the ' +\n",
              "            '<a target=\"_blank\" href=https://colab.research.google.com/notebooks/data_table.ipynb>data table notebook</a>'\n",
              "            + ' to learn more about interactive tables.';\n",
              "          element.innerHTML = '';\n",
              "          dataTable['output_type'] = 'display_data';\n",
              "          await google.colab.output.renderOutput(dataTable, element);\n",
              "          const docLink = document.createElement('div');\n",
              "          docLink.innerHTML = docLinkHtml;\n",
              "          element.appendChild(docLink);\n",
              "        }\n",
              "      </script>\n",
              "    </div>\n",
              "  </div>\n",
              "  "
            ]
          },
          "metadata": {}
        },
        {
          "output_type": "stream",
          "name": "stdout",
          "text": [
            "\n"
          ]
        }
      ],
      "source": [
        "%%ipytest -qqs\n",
        "SPORTSDAY_DF = pd.read_csv('sportsday.csv')  # โหลดข้อมูลจากไฟล์\n",
        "display(SPORTSDAY_DF.head(10))  # ตัวอย่างข้อมูล 10 แถวแรก\n",
        "display(SPORTSDAY_DF.tail(10))  # ตัวอย่างข้อมูล 10 แถวสุดท้าย"
      ]
    },
    {
      "cell_type": "markdown",
      "metadata": {
        "id": "g9PCKpE0RYRT"
      },
      "source": [
        "# โจทย์ปัญหาที่ 9: นามสกุลที่โหลที่สุด\n",
        "\n",
        "จงเติมฟังก์ชัน `common_last_name` ให้สมบูรณ์ ซึ่งรับข้อมูลตารางสถิติการแข่งกีฬา (ตามโครงสร้างที่ระบุข้างต้น)  \n",
        "แล้วคำนวณว่านามสกุลที่พบได้บ่อยที่สุดในตารางดังกล่าว มีทั้งสิ้นกี่คน\n",
        "\n",
        "#### อินพุตของฟังก์ชัน\n",
        "\n",
        "- `df`: ข้อมูลสถิติกีฬาจากงานกีฬาสี\n",
        "\n",
        "#### ฟังก์ชันรีเทิร์นค่า\n",
        "\n",
        "- จำนวนคนที่มากที่สุดที่ใช้นามสกุลเดียวกัน\n",
        "\n",
        "#### คำใบ้และข้อมูลเพิ่มเติม\n",
        "\n",
        "- เลือกเฉพาะคอลัมน์ `last_name`\n",
        "- [Documentation ของ `pandas.Series.value_counts`](https://pandas.pydata.org/docs/reference/api/pandas.Series.value_counts.html)\n",
        "- อาจต้องเรียกใช้ฟังก์ชันอื่นเพิ่มอีก"
      ]
    },
    {
      "cell_type": "code",
      "execution_count": 29,
      "metadata": {
        "id": "KejKeGpbRYRU"
      },
      "outputs": [],
      "source": [
        "def common_last_name(df: pd.DataFrame) -> str:\n",
        "    # เขียนโค้ดของคุณตรงนี้\n",
        "    lastname = df.last_name\n",
        "    index = lastname.value_counts().values[0]\n",
        "    return index\n",
        "    ..."
      ]
    },
    {
      "cell_type": "code",
      "execution_count": 30,
      "metadata": {
        "colab": {
          "base_uri": "https://localhost:8080/"
        },
        "id": "DdVBLcbNRYRU",
        "outputId": "1d2f3867-f81e-4aa0-92a5-e09a1da89445"
      },
      "outputs": [
        {
          "output_type": "stream",
          "name": "stdout",
          "text": [
            "==== Test OK ====\n",
            "\u001b[32m.\u001b[0m\n"
          ]
        }
      ],
      "source": [
        "%%ipytest -qqs\n",
        "def test_common_last_name():\n",
        "    assert common_last_name(SPORTSDAY_DF) == 8\n",
        "    assert common_last_name(SPORTSDAY_DF[SPORTSDAY_DF.team_color == 'salmon_red']) == 4\n",
        "    assert common_last_name(SPORTSDAY_DF[SPORTSDAY_DF['class'] == 7]) == 3\n",
        "    print(\"==== Test OK ====\")"
      ]
    },
    {
      "cell_type": "markdown",
      "metadata": {
        "id": "J-7i7eGNRYRV"
      },
      "source": [
        "# โจทย์ปัญหาที่ 10: นักวิ่งลมกรดประจำทีม\n",
        "\n",
        "จงเติมฟังก์ชัน `fast_runners` ให้สมบูรณ์ ซึ่งรับข้อมูลตารางสถิติการแข่งกีฬา (ตามโครงสร้างที่ระบุข้างต้น)  \n",
        "แล้วให้กรองคัดเลือกแถวข้อมูลเฉพาะทีมที่กำหนด และสามารถวิ่งระยะ 100 เมตรภายในระยะเวลาที่กำหนด\n",
        "\n",
        "#### อินพุตของฟังก์ชัน\n",
        "\n",
        "- `df`: ข้อมูลสถิติกีฬาจากงานกีฬาสี\n",
        "- `team_color`: ชื่อทีมกีฬาสี\n",
        "- `max_running_time`: เกณฑ์เวลาที่ใช้วิ่งในระยะ 100 เมตร\n",
        "\n",
        "#### ฟังก์ชันรีเทิร์นค่า\n",
        "\n",
        "- ตารางใหม่ที่เกิดจากการกรองคัดเฉพาะคนที่มีคุณสมบัติตามที่กำหนดข้างต้น\n",
        "\n",
        "#### คำใบ้และข้อมูลเพิ่มเติม\n",
        "\n",
        "- [Documentation ของการเลือกข้อมูลเฉพาะแถวที่ต้องการ](https://pandas.pydata.org/docs/user_guide/indexing.html)"
      ]
    },
    {
      "cell_type": "code",
      "execution_count": 31,
      "metadata": {
        "id": "SJE84NFNRYRV"
      },
      "outputs": [],
      "source": [
        "def fast_runners(df: pd.DataFrame, team_color: str, max_running_time: float) -> pd.DataFrame:\n",
        "    # เขียนโค้ดของคุณตรงนี้\n",
        "    rslt_df = df[(df['team_color'] == team_color)&(df['100m_running_sec'] < max_running_time)]\n",
        "    return rslt_df"
      ]
    },
    {
      "cell_type": "code",
      "execution_count": 32,
      "metadata": {
        "colab": {
          "base_uri": "https://localhost:8080/"
        },
        "id": "LyIUV7hxRYRV",
        "outputId": "48a557c8-ad84-4550-a9be-58ba39b72428"
      },
      "outputs": [
        {
          "output_type": "stream",
          "name": "stdout",
          "text": [
            "==== Test OK ====\n",
            "\u001b[32m.\u001b[0m\n"
          ]
        }
      ],
      "source": [
        "%%ipytest -qqs\n",
        "def test_fast_runners():\n",
        "    result = fast_runners(SPORTSDAY_DF, 'salmon_red', 12.0)\n",
        "    pd.testing.assert_index_equal(result.columns, SPORTSDAY_DF.columns)\n",
        "    assert set(result[['first_name', 'last_name']].itertuples(index=False, name=None)) == {\n",
        "        ('Angela', 'Williams'),\n",
        "        ('Emily', 'Flores'),\n",
        "        ('Gary', 'Martinez'),\n",
        "        ('Jason', 'Scott'),\n",
        "        ('Justin', 'Lopez'),\n",
        "    }\n",
        "    \n",
        "    result = fast_runners(SPORTSDAY_DF, 'caterpillar_green', 11.5)\n",
        "    pd.testing.assert_index_equal(result.columns, SPORTSDAY_DF.columns)\n",
        "    assert set(result[['first_name', 'last_name']].itertuples(index=False, name=None)) == {\n",
        "        ('Daniel', 'Rodriguez'), \n",
        "        ('Kathleen', 'Edwards'), \n",
        "        ('Linda', 'Turner'),\n",
        "    }\n",
        "    \n",
        "    result = fast_runners(SPORTSDAY_DF, 'whale_blue', 11.0)\n",
        "    pd.testing.assert_index_equal(result.columns, SPORTSDAY_DF.columns)\n",
        "    assert set(result[['first_name', 'last_name']].itertuples(index=False, name=None)) == set()\n",
        "    \n",
        "    print(\"==== Test OK ====\")"
      ]
    },
    {
      "cell_type": "markdown",
      "metadata": {
        "id": "_3gCLROZRYRW"
      },
      "source": [
        "# โจทย์ปัญหาที่ 11: สถิติโบวลิ่งและมินิกอล์ฟประจำชั้น\n",
        "\n",
        "จงเติมฟังก์ชัน `best_bowling_and_minigolf` ให้สมบูรณ์ ซึ่งรับข้อมูลตารางสถิติการแข่งกีฬา (ตามโครงสร้างที่ระบุข้างต้น)  \n",
        "แล้วคำนวณว่าสถิติคะแนนโบว์ลิ่งที่ดีที่สุด (มากที่สุด) และคะแนนมินิกอล์ฟที่ดีที่สุด (น้อยที่สุด) ประจำชั้นที่กำหนดให้ มีค่าเท่าใดบ้าง\n",
        "\n",
        "#### อินพุตของฟังก์ชัน\n",
        "\n",
        "- `df`: ข้อมูลสถิติกีฬาจากงานกีฬาสี\n",
        "- `class_no`: ระดับชั้นเรียน (มีค่าตั้งแต่ 7 ถึง 12)\n",
        "\n",
        "#### ฟังก์ชันรีเทิร์นค่า\n",
        "\n",
        "- ทูเปิลประกอบด้วยค่าสองค่า ได้แก่คะแนนโบว์ลิ่งที่มากที่สุด ตามด้วยคะแนนมินิกอล์ฟที่น่้่อยที่สุด\n",
        "\n",
        "#### คำใบ้และข้อมูลเพิ่มเติม\n",
        "\n",
        "- [Documentation ของการคำนวณค่าทางสถิติเบื้องต้น](https://pandas.pydata.org/docs/user_guide/basics.html#descriptive-statistics)"
      ]
    },
    {
      "cell_type": "code",
      "execution_count": 33,
      "metadata": {
        "id": "dt8h4umeRYRW"
      },
      "outputs": [],
      "source": [
        "def best_bowling_and_minigolf(df: pd.DataFrame, class_no: int) -> tuple[float, float]:\n",
        "    # เขียนโค้ดของคุณตรงนี้\n",
        "    df_rslt = df[df['class'] == class_no]\n",
        "    bowling = df_rslt['bowling_score'].max()\n",
        "    minigolf = df_rslt['minigolf_strokes'].min()\n",
        "    return (bowling,minigolf)\n",
        "    ..."
      ]
    },
    {
      "cell_type": "code",
      "execution_count": 34,
      "metadata": {
        "colab": {
          "base_uri": "https://localhost:8080/"
        },
        "id": "5CawVBDpRYRX",
        "outputId": "b86932c6-01c6-4ef1-f772-7337262a02a6"
      },
      "outputs": [
        {
          "output_type": "stream",
          "name": "stdout",
          "text": [
            "==== Test OK ====\n",
            "\u001b[32m.\u001b[0m\n"
          ]
        }
      ],
      "source": [
        "%%ipytest -qqs\n",
        "def test_best_bowling_and_minigolf():\n",
        "    assert best_bowling_and_minigolf(SPORTSDAY_DF, 8) == (291, 18)\n",
        "    assert best_bowling_and_minigolf(SPORTSDAY_DF, 10) == (284, 21)\n",
        "    assert best_bowling_and_minigolf(SPORTSDAY_DF, 12) == (300, 18)\n",
        "    print(\"==== Test OK ====\")"
      ]
    },
    {
      "cell_type": "markdown",
      "metadata": {
        "id": "B9G1F4y1RYRX"
      },
      "source": [
        "# โจทย์ปัญหาที่ 12: ค่าเฉลี่ยการกระโดดสูง\n",
        "\n",
        "จงเติมฟังก์ชัน `highjump_averages` ให้สมบูรณ์ ซึ่งรับข้อมูลตารางสถิติการแข่งกีฬา (ตามโครงสร้างที่ระบุข้างต้น)  \n",
        "แล้วคำนวณหาค่าเฉลี่ยของการกระโดดสูงสำหรับทีมแต่ละทีม\n",
        "\n",
        "#### อินพุตของฟังก์ชัน\n",
        "\n",
        "- `df`: ข้อมูลสถิติกีฬาจากงานกีฬาสี\n",
        "\n",
        "#### ฟังก์ชันรีเทิร์นค่า\n",
        "\n",
        "- ข้อมูลซีรีส์ใหม่ที่มีค่าดัชนีเป็นทีมทั้งหมดในการแข่งกีฬา และมีค่าเป็นค่าเฉลี่ยของความสูงของการกระโดดสูงสำหรับแต่ละทีมนั้น ๆ\n",
        "\n",
        "#### คำใบ้และข้อมูลเพิ่มเติม\n",
        "\n",
        "- [Documentation ของการจัดกลุ่มข้อมูล](https://pandas.pydata.org/docs/user_guide/10min.html#grouping)"
      ]
    },
    {
      "cell_type": "code",
      "execution_count": 35,
      "metadata": {
        "id": "lDwc5q9oRYRY"
      },
      "outputs": [],
      "source": [
        "def highjump_averages(df: pd.DataFrame) -> pd.Series:\n",
        "    # เขียนโค้ดของคุณตรงนี้\n",
        "    df_rslt = df.groupby('team_color')['high_jump_cm'].mean()\n",
        "    return df_rslt.squeeze(axis=0)\n",
        "    ..."
      ]
    },
    {
      "cell_type": "code",
      "execution_count": 36,
      "metadata": {
        "tags": [],
        "colab": {
          "base_uri": "https://localhost:8080/"
        },
        "id": "ESJXchh_RYRY",
        "outputId": "dea81485-bd0f-4fc1-d68e-8e7638b4075a"
      },
      "outputs": [
        {
          "output_type": "stream",
          "name": "stdout",
          "text": [
            "==== Test OK ====\n",
            "\u001b[32m.\u001b[0m\n"
          ]
        }
      ],
      "source": [
        "%%ipytest -qqs\n",
        "def test_best_bowling_and_minigolf():\n",
        "    assert highjump_averages(SPORTSDAY_DF).to_dict() == approx({\n",
        "        'caterpillar_green': 93.21265306122449,\n",
        "        'duckling_yellow': 98.88854166666665,\n",
        "        'salmon_red': 89.11403846153847,\n",
        "        'whale_blue': 93.18333333333334,\n",
        "    })\n",
        "    assert highjump_averages(SPORTSDAY_DF[SPORTSDAY_DF['class'] == 9]).to_dict() == approx({\n",
        "        'caterpillar_green': 103.64555555555555,\n",
        "        'duckling_yellow': 100.98625,\n",
        "        'salmon_red': 83.57,\n",
        "        'whale_blue': 90.29,\n",
        "    })\n",
        "    assert highjump_averages(SPORTSDAY_DF[SPORTSDAY_DF['class'].isin([7, 11])]).to_dict() == approx({\n",
        "        'caterpillar_green': 87.44583333333333,\n",
        "        'duckling_yellow': 101.9042105263158,\n",
        "        'salmon_red': 90.19999999999999,\n",
        "        'whale_blue': 96.38307692307693,\n",
        "    })\n",
        "    print(\"==== Test OK ====\")"
      ]
    },
    {
      "cell_type": "code",
      "execution_count": null,
      "metadata": {
        "id": "vjKOk2yVRYRZ"
      },
      "outputs": [],
      "source": [
        ""
      ]
    }
  ],
  "metadata": {
    "kernelspec": {
      "display_name": "Python 3 (ipykernel)",
      "language": "python",
      "name": "python3"
    },
    "language_info": {
      "codemirror_mode": {
        "name": "ipython",
        "version": 3
      },
      "file_extension": ".py",
      "mimetype": "text/x-python",
      "name": "python",
      "nbconvert_exporter": "python",
      "pygments_lexer": "ipython3",
      "version": "3.7.12"
    },
    "toc-showmarkdowntxt": false,
    "colab": {
      "name": "exam.ipynb",
      "provenance": []
    }
  },
  "nbformat": 4,
  "nbformat_minor": 0
}